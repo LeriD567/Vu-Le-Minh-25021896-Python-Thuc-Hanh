{
 "cells": [
  {
   "cell_type": "code",
   "execution_count": 11,
   "id": "30645975-cd38-41e7-9ca5-fd563b21d52a",
   "metadata": {},
   "outputs": [
    {
     "name": "stdout",
     "output_type": "stream",
     "text": [
      "Tính n!\n"
     ]
    },
    {
     "name": "stdin",
     "output_type": "stream",
     "text": [
      "Nhập số nguyên dương n: -2\n"
     ]
    },
    {
     "name": "stdout",
     "output_type": "stream",
     "text": [
      "Không tính được giai thừa số âm!\n"
     ]
    },
    {
     "name": "stdin",
     "output_type": "stream",
     "text": [
      "Nhập số nguyên dương n: a\n"
     ]
    },
    {
     "name": "stdout",
     "output_type": "stream",
     "text": [
      "Hãy nhập đúng số nguyên dương n!\n"
     ]
    },
    {
     "name": "stdin",
     "output_type": "stream",
     "text": [
      "Nhập số nguyên dương n: 5\n"
     ]
    },
    {
     "name": "stdout",
     "output_type": "stream",
     "text": [
      "5! = 120\n"
     ]
    }
   ],
   "source": [
    "# Bài 13\n",
    "print('Tính n!')\n",
    "while True:\n",
    "    try:\n",
    "        n = int(input('Nhập số nguyên dương n:'))\n",
    "        if n < 0:\n",
    "            print('Không tính được giai thừa số âm!')\n",
    "        else:\n",
    "            break\n",
    "   \n",
    "    except ValueError:\n",
    "        print('Hãy nhập đúng số nguyên dương n!')\n",
    "\n",
    "factorial = 1\n",
    "for i in range (1, n + 1):\n",
    "    factorial *= i\n",
    "print(f'{n}! = {factorial}')"
   ]
  },
  {
   "cell_type": "code",
   "execution_count": 15,
   "id": "d5cbad61-0379-40d7-bc1f-9b778c280eb3",
   "metadata": {},
   "outputs": [
    {
     "name": "stdout",
     "output_type": "stream",
     "text": [
      "Tính x^n (Với n nguyên không âm)\n"
     ]
    },
    {
     "name": "stdin",
     "output_type": "stream",
     "text": [
      "Nhập tham số x: a\n"
     ]
    },
    {
     "name": "stdout",
     "output_type": "stream",
     "text": [
      "Hãy nhập đúng tham số x và số nguyên dương n!\n"
     ]
    },
    {
     "name": "stdin",
     "output_type": "stream",
     "text": [
      "Nhập tham số x: 4 \n",
      "Nhập số nguyên dương n: a\n"
     ]
    },
    {
     "name": "stdout",
     "output_type": "stream",
     "text": [
      "Hãy nhập đúng tham số x và số nguyên dương n!\n"
     ]
    },
    {
     "name": "stdin",
     "output_type": "stream",
     "text": [
      "Nhập tham số x: 3\n",
      "Nhập số nguyên dương n: -2\n"
     ]
    },
    {
     "name": "stdout",
     "output_type": "stream",
     "text": [
      "n phải là số dương!\n"
     ]
    },
    {
     "name": "stdin",
     "output_type": "stream",
     "text": [
      "Nhập tham số x: 3\n",
      "Nhập số nguyên dương n: -2\n"
     ]
    },
    {
     "name": "stdout",
     "output_type": "stream",
     "text": [
      "n phải là số dương!\n"
     ]
    },
    {
     "name": "stdin",
     "output_type": "stream",
     "text": [
      "Nhập tham số x: 0\n",
      "Nhập số nguyên dương n: 0\n"
     ]
    },
    {
     "name": "stdout",
     "output_type": "stream",
     "text": [
      "Không xác định\n"
     ]
    },
    {
     "name": "stdin",
     "output_type": "stream",
     "text": [
      "Nhập tham số x: 3\n",
      "Nhập số nguyên dương n: 3\n"
     ]
    },
    {
     "name": "stdout",
     "output_type": "stream",
     "text": [
      "3.0^3 = 27.0\n"
     ]
    }
   ],
   "source": [
    "# Bài 14\n",
    "print('Tính x^n (Với n nguyên không âm)')\n",
    "while True:\n",
    "    try:\n",
    "        x = float(input('Nhập tham số x:'))\n",
    "        n = int(input('Nhập số nguyên dương n:'))\n",
    "        if n < 0:\n",
    "            print('n phải là số dương!')\n",
    "        elif x == 0 and n == 0:\n",
    "            print('Không xác định')\n",
    "        else:\n",
    "            break\n",
    "   \n",
    "    except ValueError:\n",
    "        print('Hãy nhập đúng tham số x và số nguyên dương n!')\n",
    "\n",
    "result = 1\n",
    "for i in range (n):\n",
    "    result *= x\n",
    "print(f'{x}^{n} = {result}')"
   ]
  },
  {
   "cell_type": "code",
   "execution_count": null,
   "id": "5e6e835a-3030-4240-bfd2-fda9833f4eea",
   "metadata": {},
   "outputs": [],
   "source": [
    "# Bài 15\n"
   ]
  }
 ],
 "metadata": {
  "kernelspec": {
   "display_name": "Python 3 (ipykernel)",
   "language": "python",
   "name": "python3"
  },
  "language_info": {
   "codemirror_mode": {
    "name": "ipython",
    "version": 3
   },
   "file_extension": ".py",
   "mimetype": "text/x-python",
   "name": "python",
   "nbconvert_exporter": "python",
   "pygments_lexer": "ipython3",
   "version": "3.13.7"
  }
 },
 "nbformat": 4,
 "nbformat_minor": 5
}
