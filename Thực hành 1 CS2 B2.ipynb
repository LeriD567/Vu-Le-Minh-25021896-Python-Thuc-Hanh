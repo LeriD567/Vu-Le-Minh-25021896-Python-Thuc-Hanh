{
 "cells": [
  {
   "cell_type": "code",
   "execution_count": 1,
   "id": "aaa490dc-9473-497c-9c69-e9518ebc7b56",
   "metadata": {},
   "outputs": [
    {
     "name": "stdout",
     "output_type": "stream",
     "text": [
      "Hello World\n"
     ]
    }
   ],
   "source": [
    "#W2a1\n",
    "print('Hello World')"
   ]
  },
  {
   "cell_type": "code",
   "execution_count": 5,
   "id": "c0289701-15ce-47a0-8a8f-b0f4097582ab",
   "metadata": {},
   "outputs": [
    {
     "name": "stdin",
     "output_type": "stream",
     "text": [
      "Nhập tên của bạn Lê Minh\n"
     ]
    },
    {
     "name": "stdout",
     "output_type": "stream",
     "text": [
      "Xin chào Lê Minh\n"
     ]
    }
   ],
   "source": [
    "#W2a2\n",
    "Tên = input('Nhập tên của bạn')\n",
    "print('Xin chào', Tên)"
   ]
  },
  {
   "cell_type": "code",
   "execution_count": 7,
   "id": "1744351f-b74b-45dd-b616-44724cd36a8f",
   "metadata": {},
   "outputs": [
    {
     "name": "stdin",
     "output_type": "stream",
     "text": [
      "Nhập số nguyên a: 30\n",
      "Nhập số nguyên b: 7\n"
     ]
    },
    {
     "name": "stdout",
     "output_type": "stream",
     "text": [
      "Tổng: 37\n",
      "Hiệu: 23\n",
      "Tích: 210\n",
      "Phần Nguyên: 4\n",
      "Phần dư: 2\n",
      "Chia thực: 4.285714285714286\n"
     ]
    }
   ],
   "source": [
    "#W2a3\n",
    "a = int(input(\"Nhập số nguyên a:\"))\n",
    "b = int(input('Nhập số nguyên b:'))\n",
    "tong = a + b\n",
    "hieu = a - b\n",
    "tich = a * b\n",
    "phan_nguyen = a // b\n",
    "phan_du = a % b\n",
    "chia_thuc = a / b\n",
    "print('Tổng:', tong)\n",
    "print('Hiệu:', hieu)\n",
    "print('Tích:', tich)\n",
    "print('Phần Nguyên:', phan_nguyen)\n",
    "print('Phần dư:', phan_du)\n",
    "print('Chia thực:', chia_thuc)"
   ]
  },
  {
   "cell_type": "code",
   "execution_count": 4,
   "id": "49696aec-d7b8-40cf-93c1-b0fa77e46836",
   "metadata": {},
   "outputs": [
    {
     "name": "stdin",
     "output_type": "stream",
     "text": [
      "Nhập 6 điểm(a1 b1 c1 a2 b2 a3): 7 8 9 8 10 9\n"
     ]
    },
    {
     "name": "stdout",
     "output_type": "stream",
     "text": [
      "Điểm trung bình: 8.7\n"
     ]
    }
   ],
   "source": [
    "#W2a4\n",
    "a1, b1, c1, a2, b2, a3 =map(float,input('Nhập 6 điểm(a1 b1 c1 a2 b2 a3):').split())\n",
    "tb = ((a1 + b1 + c1) + (a2 + b2) * 2 + a3 * 3) / 10\n",
    "print(f\"Điểm trung bình: {tb:.1f}\")"
   ]
  },
  {
   "cell_type": "code",
   "execution_count": 6,
   "id": "985ff9f5-66fb-4553-853e-add515735d71",
   "metadata": {},
   "outputs": [
    {
     "name": "stdin",
     "output_type": "stream",
     "text": [
      "Nhập số nguyên a và b 3 2\n"
     ]
    },
    {
     "name": "stdout",
     "output_type": "stream",
     "text": [
      "a^b= 9\n"
     ]
    }
   ],
   "source": [
    "#W2a5\n",
    "a, b =map(int, input('Nhập số nguyên a và b').split())\n",
    "print('a^b=', a ** b)"
   ]
  },
  {
   "cell_type": "code",
   "execution_count": 10,
   "id": "9d470897-03bc-4163-a130-34d5695e49dd",
   "metadata": {},
   "outputs": [
    {
     "name": "stdin",
     "output_type": "stream",
     "text": [
      "Nhập ký tự của bạn: l     \n"
     ]
    },
    {
     "name": "stdout",
     "output_type": "stream",
     "text": [
      "Mã số của ký tự: 108\n",
      "Ký tự in hoa: L\n"
     ]
    }
   ],
   "source": [
    "#W2a6\n",
    "ch = input('Nhập ký tự của bạn:').strip()\n",
    "code = ord(ch)\n",
    "upper_ch = chr(code - 32)\n",
    "print('Mã số của ký tự:', code)\n",
    "print('Ký tự in hoa:', upper_ch)"
   ]
  },
  {
   "cell_type": "code",
   "execution_count": 11,
   "id": "89e8bada-e01b-4fd5-a73c-6d0eb4d40e72",
   "metadata": {},
   "outputs": [
    {
     "name": "stdout",
     "output_type": "stream",
     "text": [
      "Kết quả A = 512\n",
      "Kết quả B = 512\n"
     ]
    }
   ],
   "source": [
    "#W2a7\n",
    "# Biểu thức A: có ngoặc, viết rõ ràng\n",
    "A = ((13 ** 2) * 3) + 5\n",
    "\n",
    "# Biểu thức B: viết ngắn gọn, không ngoặc\n",
    "B = 13 ** 2 * 3 + 5\n",
    "\n",
    "# In kết quả\n",
    "print(\"Kết quả A =\", A)\n",
    "print(\"Kết quả B =\", B)"
   ]
  },
  {
   "cell_type": "code",
   "execution_count": 18,
   "id": "a4d3c664-f0f3-49ac-bae4-bfcd34a57b54",
   "metadata": {},
   "outputs": [
    {
     "name": "stdin",
     "output_type": "stream",
     "text": [
      "Nhập nhiệt độ C: 15.67\n"
     ]
    },
    {
     "name": "stdout",
     "output_type": "stream",
     "text": [
      "Đổi ra độ F: 60.21\n"
     ]
    }
   ],
   "source": [
    "#W2a8\n",
    "C = float(input('Nhập nhiệt độ C:'))\n",
    "F = 9/5 * C + 32\n",
    "print(f'Đổi ra độ F: {F:.2f}')"
   ]
  },
  {
   "cell_type": "code",
   "execution_count": 21,
   "id": "da08bc3e-7804-4864-af54-f4c6f9ec5806",
   "metadata": {},
   "outputs": [
    {
     "name": "stdin",
     "output_type": "stream",
     "text": [
      "Giá của chiếc đồng hồ (USD): 16.45\n"
     ]
    },
    {
     "name": "stdout",
     "output_type": "stream",
     "text": [
      "Tổng số tiền Tùng trả: 33.03\n"
     ]
    }
   ],
   "source": [
    "#W2a9\n",
    "gia_goc = float(input('Giá của chiếc đồng hồ (USD):'))\n",
    "tong = gia_goc * (1 + 0.3 + 0.1 ) + 10\n",
    "print(f'Tổng số tiền Tùng trả: {tong:.2f}')"
   ]
  },
  {
   "cell_type": "code",
   "execution_count": 24,
   "id": "2f9a8ace-c969-43b6-90fe-61f52544aab7",
   "metadata": {},
   "outputs": [
    {
     "name": "stdin",
     "output_type": "stream",
     "text": [
      "Nhập 3 tên (cách nhau bằng dấu cách): Alex Minh   Duy\n"
     ]
    },
    {
     "name": "stdout",
     "output_type": "stream",
     "text": [
      "Hi Duy, Minh, Alex\n"
     ]
    }
   ],
   "source": [
    "#W2a10\n",
    "names = input('Nhập 3 tên (cách nhau bằng dấu cách):').split()\n",
    "names.reverse()\n",
    "print(f'Hi {names [0]}, {names [1]}, {names [2]}')"
   ]
  },
  {
   "cell_type": "code",
   "execution_count": 26,
   "id": "0027082b-85d5-40d9-b492-2d5c98081bc5",
   "metadata": {},
   "outputs": [
    {
     "name": "stdin",
     "output_type": "stream",
     "text": [
      "Nhập số giờ và phút: 4 17\n"
     ]
    },
    {
     "name": "stdout",
     "output_type": "stream",
     "text": [
      "Tổng số giây: 15420\n"
     ]
    }
   ],
   "source": [
    "#W2a11\n",
    "h, m = map(int, input('Nhập số giờ và phút:').split())\n",
    "seconds = h * 3600 + m * 60\n",
    "print('Tổng số giây:', seconds)"
   ]
  },
  {
   "cell_type": "code",
   "execution_count": 28,
   "id": "201dc89d-c0c8-4c24-b720-497fcfeb41fb",
   "metadata": {},
   "outputs": [
    {
     "name": "stdin",
     "output_type": "stream",
     "text": [
      "Độ dài cạnh Rubik: 4\n"
     ]
    },
    {
     "name": "stdout",
     "output_type": "stream",
     "text": [
      "Tổng số miếng dán cần thiết: 96\n"
     ]
    }
   ],
   "source": [
    "#W2a12\n",
    "n = int(input('Độ dài cạnh Rubik:'))\n",
    "mieng_dan = 6 * n**2\n",
    "print('Tổng số miếng dán cần thiết:', mieng_dan)"
   ]
  },
  {
   "cell_type": "code",
   "execution_count": 30,
   "id": "dfbdcecf-9359-4c8d-ba6b-8c85b59cc024",
   "metadata": {},
   "outputs": [
    {
     "name": "stdin",
     "output_type": "stream",
     "text": [
      "Nhập 2 số nguyên dương: 13 7\n"
     ]
    },
    {
     "name": "stdout",
     "output_type": "stream",
     "text": [
      "Hàng đơn vị của tích a vs b = 1\n"
     ]
    }
   ],
   "source": [
    "#W2a13\n",
    "a, b  = map(int, input('Nhập 2 số nguyên dương:').split())\n",
    "don_vi = (a*b) % 10 # Chia cho 10 sẽ dư ra hàng đơn vị\n",
    "print('Hàng đơn vị của tích a vs b =', don_vi)"
   ]
  },
  {
   "cell_type": "code",
   "execution_count": 33,
   "id": "8dc7d962-0d24-4575-bb5b-98ad01038713",
   "metadata": {},
   "outputs": [
    {
     "name": "stdin",
     "output_type": "stream",
     "text": [
      "Nhập 2 số a và b: 3.5 6\n"
     ]
    },
    {
     "name": "stdout",
     "output_type": "stream",
     "text": [
      "6.0 3.5\n"
     ]
    }
   ],
   "source": [
    "#W2a14\n",
    "a, b  = map(float, input('Nhập 2 số a và b:').split())\n",
    "a, b = b, a\n",
    "print(a, b)"
   ]
  },
  {
   "cell_type": "code",
   "execution_count": 37,
   "id": "c872079d-26e7-42e2-9243-b91768edadac",
   "metadata": {},
   "outputs": [
    {
     "name": "stdin",
     "output_type": "stream",
     "text": [
      "Nhập số nguyên dương: 4\n"
     ]
    },
    {
     "name": "stdout",
     "output_type": "stream",
     "text": [
      "Số sao thứ 4 = 73\n"
     ]
    }
   ],
   "source": [
    "#W2a15\n",
    "n = int(input('Nhập số nguyên dương:'))\n",
    "so_sao = 6*n * (n-1) + 1\n",
    "print('Số sao thứ',n ,'=', so_sao)"
   ]
  },
  {
   "cell_type": "code",
   "execution_count": 1,
   "id": "6d946411-b946-4473-a742-0bc8dc250423",
   "metadata": {},
   "outputs": [
    {
     "name": "stdout",
     "output_type": "stream",
     "text": [
      "Spring\n",
      "Summer\n",
      "Autumn\n",
      "Winter\n",
      "Spring\n",
      "Summer\n",
      "Autumn\n",
      "Winter\n",
      "Spring\n",
      "Summer\n",
      "Autumn\n",
      "Winter\n",
      "Spring\n",
      "Summer\n",
      "Autumn\n",
      "Winter\n"
     ]
    }
   ],
   "source": [
    "#W2a16\n",
    "print('Spring')\n",
    "print('Summer')\n",
    "print('Autumn')\n",
    "print('Winter')\n",
    "\n",
    "print('Spring\\nSummer\\nAutumn\\nWinter')\n",
    "\n",
    "#Cách 3 chuỗi nhiều dòng\n",
    "print('''Spring\n",
    "Summer\n",
    "Autumn\n",
    "Winter''')\n",
    "\n",
    "#Cách 4 dùng vòng lặp với danh sách\n",
    "seasons = ['Spring', 'Summer', 'Autumn', 'Winter']\n",
    "for s in seasons:\n",
    "    print(s)"
   ]
  },
  {
   "cell_type": "code",
   "execution_count": 5,
   "id": "26279328-e788-489a-9de4-cfe89438e9bd",
   "metadata": {},
   "outputs": [
    {
     "name": "stdout",
     "output_type": "stream",
     "text": [
      "  *  \n",
      " *** \n",
      "*****\n",
      "  *\n",
      " ***\n",
      "*****\n"
     ]
    }
   ],
   "source": [
    "#W2a17\n",
    "#Cách 1 dùng nhiều lệnh print\n",
    "print(\"  *  \")\n",
    "print(' *** ')\n",
    "print('*****')\n",
    "\n",
    "#Cách 2 dùng vòng lặp\n",
    "n = 3\n",
    "for i in range(1, n + 1):\n",
    "    space = \" \" * (n - i)\n",
    "    star = '*' * (2 * i - 1 )\n",
    "    print(space + star)"
   ]
  },
  {
   "cell_type": "code",
   "execution_count": 6,
   "id": "6f335bfa-52f9-4e13-8daa-ddde89f04257",
   "metadata": {},
   "outputs": [
    {
     "name": "stdout",
     "output_type": "stream",
     "text": [
      "### ##  ### ###\n",
      " #  # #  #   #\n",
      " #  #  # #   #\n",
      " #  # #  #   #\n",
      " #  ##   #   #\n"
     ]
    }
   ],
   "source": [
    "#W2a18\n",
    "print('### ##  ### ###')\n",
    "print(' #  # #  #   #')\n",
    "print(' #  #  # #   #')\n",
    "print(' #  # #  #   #')\n",
    "print(' #  ##   #   #')"
   ]
  },
  {
   "cell_type": "code",
   "execution_count": 10,
   "id": "3b258c43-d194-4263-b8b4-25ee8f43c86c",
   "metadata": {},
   "outputs": [
    {
     "name": "stdout",
     "output_type": "stream",
     "text": [
      "Monday\n",
      "Tuesday\n",
      "Wednesday\n",
      "Thursday\n",
      "Friday\n",
      "Saturday\n",
      "Sunday\n"
     ]
    }
   ],
   "source": [
    "#W2a19\n",
    "days = ['Monday', 'Tuesday', 'Wednesday', 'Thursday', 'Friday', 'Saturday', 'Sunday']\n",
    "for d in days:\n",
    "    print(d)"
   ]
  },
  {
   "cell_type": "code",
   "execution_count": 12,
   "id": "cb951950-01e5-4d10-81e5-616bec7cf568",
   "metadata": {},
   "outputs": [
    {
     "name": "stdout",
     "output_type": "stream",
     "text": [
      "January\n",
      "February\n",
      "March\n",
      "April\n",
      "May\n",
      "June\n",
      "July\n",
      "August\n",
      "September\n",
      "October\n",
      "November\n",
      "December\n"
     ]
    }
   ],
   "source": [
    "#W2a20\n",
    "print('''January\n",
    "February\n",
    "March\n",
    "April\n",
    "May\n",
    "June\n",
    "July\n",
    "August\n",
    "September\n",
    "October\n",
    "November\n",
    "December''')"
   ]
  },
  {
   "cell_type": "code",
   "execution_count": 14,
   "id": "122ec3f3-35ca-4d1a-8b85-7742bd5002a5",
   "metadata": {},
   "outputs": [
    {
     "name": "stdout",
     "output_type": "stream",
     "text": [
      "Hello, world\n",
      "Hello, world\n",
      "Hello, world\n",
      "Hello, world\n",
      "Hello, world\n",
      "Hello, world\n",
      "Hello, world\n",
      "Hello, world\n",
      "Hello, world\n",
      "Hello, world\n"
     ]
    }
   ],
   "source": [
    "#W2a21\n",
    "for i in range(10):\n",
    "    print('Hello, world')\n",
    "#print(('Hello, world') * 10)\n",
    "# i = 0\n",
    "#while i < 10:\n",
    "          #print('Hello, world')\n",
    "          #i += 1"
   ]
  },
  {
   "cell_type": "code",
   "execution_count": null,
   "id": "a0041d7a-a6a4-4aa8-abcd-8872c6edcf57",
   "metadata": {},
   "outputs": [],
   "source": []
  }
 ],
 "metadata": {
  "kernelspec": {
   "display_name": "Python 3 (ipykernel)",
   "language": "python",
   "name": "python3"
  },
  "language_info": {
   "codemirror_mode": {
    "name": "ipython",
    "version": 3
   },
   "file_extension": ".py",
   "mimetype": "text/x-python",
   "name": "python",
   "nbconvert_exporter": "python",
   "pygments_lexer": "ipython3",
   "version": "3.13.7"
  }
 },
 "nbformat": 4,
 "nbformat_minor": 5
}
