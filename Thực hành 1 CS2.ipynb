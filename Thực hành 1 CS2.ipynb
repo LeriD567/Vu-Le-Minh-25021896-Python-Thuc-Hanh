{
 "cells": [
  {
   "cell_type": "code",
   "execution_count": 1,
   "id": "15a0ae9b-b8a1-4d00-85ec-6f43d696aa09",
   "metadata": {},
   "outputs": [
    {
     "name": "stdout",
     "output_type": "stream",
     "text": [
      "12\n",
      "<class 'int'>\n"
     ]
    }
   ],
   "source": [
    "#w1a1\n",
    "a = 7\n",
    "b = 5\n",
    "c = a + b\n",
    "print(c)\n",
    "print(type(a))"
   ]
  },
  {
   "cell_type": "code",
   "execution_count": 2,
   "id": "95d33044-af46-4101-bb73-625b6362af98",
   "metadata": {},
   "outputs": [
    {
     "name": "stdout",
     "output_type": "stream",
     "text": [
      "Thành phố Hà Nội -Năm: 2025\n"
     ]
    }
   ],
   "source": [
    "#w1a2\n",
    "city = 'Hà Nội'\n",
    "year = 2025\n",
    "print(\"Thành phố\", city, \"-Năm:\", year)"
   ]
  },
  {
   "cell_type": "code",
   "execution_count": 6,
   "id": "2421e0c2-d098-4b89-8460-0418484485d8",
   "metadata": {},
   "outputs": [
    {
     "name": "stdout",
     "output_type": "stream",
     "text": [
      "10\n"
     ]
    }
   ],
   "source": [
    "#w1a3\n",
    "n = 4 #tạo biến n gán n=4\n",
    "t = 0 #tạo biến t bắt đầu = 0 biến sdung để lưu tổng cộng\n",
    "for i in range(1, n+1): #tạo các số từ 1 đến n ko lấy n+1\n",
    "    t += i #viết tắt của t=t+i\n",
    "print(t) #in ra gtri cuối cùng của t\n"
   ]
  },
  {
   "cell_type": "code",
   "execution_count": 4,
   "id": "3c39303f-8978-4fc3-880a-f696326a983f",
   "metadata": {},
   "outputs": [
    {
     "name": "stdout",
     "output_type": "stream",
     "text": [
      "1 là số lẻ\n",
      "2 là số chẵn\n",
      "3 là số lẻ\n",
      "4 là số chẵn\n"
     ]
    }
   ],
   "source": [
    "#w1a4\n",
    "numbers = [1, 2, 3, 4] #tạo 1 tên \"numbers\"\n",
    "for x in numbers: # lệnh vòng lặp lấy từng gtri trong list gọi là x rồi chạy lệnh dưới\n",
    "    if x % 2 == 0: #lệnh lấy số dư ktra xem nếu\n",
    "        print(x, \"là số chẵn\") #dư = 0 suy ra là số chẵn\n",
    "    else: \n",
    "        print(x, \"là số lẻ\") #dư khác 0 thì là số lẻ\n"
   ]
  },
  {
   "cell_type": "code",
   "execution_count": 7,
   "id": "49277208-2ad6-451b-9e35-3370a5d80241",
   "metadata": {},
   "outputs": [
    {
     "name": "stdout",
     "output_type": "stream",
     "text": [
      "Số phần tử trong danh sách là: 4\n"
     ]
    }
   ],
   "source": [
    "#w1a5\n",
    "animals = [\"cat\", \"dog\", \"cat\", \"bird\"] #tạo list\n",
    "count = 0 #tạo biến count vs gtri đầu =0, dùng để đếm số phần tử trong list\n",
    "for a in animals: #gắn lần lượt từng phần tử với a \n",
    "    count += 1 #count=count+1, mỗi lần vòng lặp chạy count tăng 1\n",
    "print(\"Số phần tử trong danh sách là:\", count)\n"
   ]
  },
  {
   "cell_type": "code",
   "execution_count": 8,
   "id": "870a4933-0286-4c26-ac32-71df428b859d",
   "metadata": {},
   "outputs": [
    {
     "ename": "SyntaxError",
     "evalue": "unmatched ')' (1927354243.py, line 3)",
     "output_type": "error",
     "traceback": [
      "  \u001b[36mCell\u001b[39m\u001b[36m \u001b[39m\u001b[32mIn[8]\u001b[39m\u001b[32m, line 3\u001b[39m\n\u001b[31m    \u001b[39m\u001b[31m1) Sentiment analysis #lựa chọn 1\u001b[39m\n     ^\n\u001b[31mSyntaxError\u001b[39m\u001b[31m:\u001b[39m unmatched ')'\n"
     ]
    }
   ],
   "source": [
    "#w1a6 #chưa phải code hoàn chỉnh\n",
    "=== AI Prediction System === # Tiêu đề giới thiệu chương trình \n",
    "1) Sentiment analysis #lựa chọn 1\n",
    "2) Weather forecast  #lựa chọn 2\n",
    "3) Exit  #lựa chọn 3\n",
    "Please choose an option:#thông báo người dùng hãy nhập tùy chọn, nhập số 1, 2 hoặc 3\n"
   ]
  },
  {
   "cell_type": "code",
   "execution_count": 9,
   "id": "84350c7f-81f8-4f4b-9a2c-6249d11bc150",
   "metadata": {},
   "outputs": [
    {
     "name": "stdin",
     "output_type": "stream",
     "text": [
      "Nhập số:  40\n"
     ]
    },
    {
     "name": "stdout",
     "output_type": "stream",
     "text": [
      "Số chẵn\n"
     ]
    }
   ],
   "source": [
    "#w1a7 \n",
    "num = int(input(\"Nhập số: \")) #input luôn trả về chuỗi (string), nhưng %2 chỉ dùng cho số nguyên (int), cần chuyển sang số nguyên = int(\n",
    "if num % 2 == 0: #dấu = dùng để gán gtri ko dùng trong lệnh if, so sánh bằng phải dùng ==\n",
    "    print('Số chẵn')\n",
    "else: #else thiếu dấu \":\"\n",
    "    print('Số lẻ') #lệnh trong của if, else phải thụt đầu \n",
    "\n"
   ]
  },
  {
   "cell_type": "code",
   "execution_count": 10,
   "id": "05270f03-e226-4470-9b0a-73abf4ba3558",
   "metadata": {},
   "outputs": [
    {
     "name": "stdout",
     "output_type": "stream",
     "text": [
      "AI đang học lần 1\n",
      "AI đang học lần 2\n",
      "AI đang học lần 3\n",
      "Huấn luyện xong!\n"
     ]
    }
   ],
   "source": [
    "#w1a8\n",
    "for i in range(3): #range(3) tạo dãy 0,1,2 vòng lặp sẽ chạy 3 lần vs i lần lượt bằng 0,1,2 \n",
    "    print(\"AI đang học lần\", i + 1) #mỗi lần lặp, chương trình in ra câu: \"AI đang học lần <số>\" #i bắt đầu từ 0 nên ta thêm +1\n",
    "print(\"Huấn luyện xong!\") #lệnh nằm ngoài vòng lặp nên sẽ thực hiện 1 lần sau khi vòng lặp kết \n"
   ]
  },
  {
   "cell_type": "code",
   "execution_count": 11,
   "id": "79db7ad9-8797-44b8-9aeb-4a07784b1486",
   "metadata": {},
   "outputs": [
    {
     "name": "stdout",
     "output_type": "stream",
     "text": [
      "Dự đoán con vật: cat\n",
      "Dự đoán con vật: dog\n",
      "Dự đoán con vật: fish\n"
     ]
    }
   ],
   "source": [
    "#w1a9\n",
    "for x in [\"cat\", \"dog\", \"fish\"]: #vòng lặp sẽ lấy lần lượt các phần tử trong list để gán vào x \n",
    "    print(\"Dự đoán con vật:\", x) #mỗi lần lặp sẽ in ra \"Dự đoán con vật: kèm gtri của x\"\n"
   ]
  },
  {
   "cell_type": "code",
   "execution_count": 12,
   "id": "fed8e739-2008-4908-bfba-92682f70076d",
   "metadata": {},
   "outputs": [
    {
     "name": "stdout",
     "output_type": "stream",
     "text": [
      "=== AI Prediction System ===\n",
      "1) Sentiment analysis\n",
      "2) Weather forecast\n",
      "3) Exit\n",
      "Please choose an option:\n"
     ]
    }
   ],
   "source": [
    "#w1a10\n",
    "# Simple menu \n",
    "print(\"=== AI Prediction System ===\") #lỗi print ko có dấu ngoặc ()\n",
    "print(\"1) Sentiment analysis\") #thiếu dấu đóng ngoặc )\n",
    "print(\"2) Weather forecast\") #thừa ngoặc\n",
    "print(\"3) Exit\") #thiếu dấu đóng ngoặc \n",
    "print(\"Please choose an option:\")\n"
   ]
  },
  {
   "cell_type": "code",
   "execution_count": null,
   "id": "7f8c3f42-09f8-4b4f-a6ed-54fddd4df7d4",
   "metadata": {},
   "outputs": [],
   "source": []
  }
 ],
 "metadata": {
  "kernelspec": {
   "display_name": "Python 3 (ipykernel)",
   "language": "python",
   "name": "python3"
  },
  "language_info": {
   "codemirror_mode": {
    "name": "ipython",
    "version": 3
   },
   "file_extension": ".py",
   "mimetype": "text/x-python",
   "name": "python",
   "nbconvert_exporter": "python",
   "pygments_lexer": "ipython3",
   "version": "3.13.7"
  }
 },
 "nbformat": 4,
 "nbformat_minor": 5
}
