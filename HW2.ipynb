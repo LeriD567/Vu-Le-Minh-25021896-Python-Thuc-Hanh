{
 "cells": [
  {
   "cell_type": "code",
   "execution_count": 1,
   "id": "75248ff3-e80b-4b53-ad33-b8b0ef8b51cd",
   "metadata": {},
   "outputs": [
    {
     "name": "stdout",
     "output_type": "stream",
     "text": [
      "['ArithmeticError', 'AssertionError', 'AttributeError', 'BaseException', 'BaseExceptionGroup', 'BlockingIOError', 'BrokenPipeError', 'BufferError', 'BytesWarning', 'ChildProcessError', 'ConnectionAbortedError', 'ConnectionError', 'ConnectionRefusedError', 'ConnectionResetError', 'DeprecationWarning', 'EOFError', 'Ellipsis', 'EncodingWarning', 'EnvironmentError', 'Exception', 'ExceptionGroup', 'False', 'FileExistsError', 'FileNotFoundError', 'FloatingPointError', 'FutureWarning', 'GeneratorExit', 'IOError', 'ImportError', 'ImportWarning', 'IndentationError', 'IndexError', 'InterruptedError', 'IsADirectoryError', 'KeyError', 'KeyboardInterrupt', 'LookupError', 'MemoryError', 'ModuleNotFoundError', 'NameError', 'None', 'NotADirectoryError', 'NotImplemented', 'NotImplementedError', 'OSError', 'OverflowError', 'PendingDeprecationWarning', 'PermissionError', 'ProcessLookupError', 'PythonFinalizationError', 'RecursionError', 'ReferenceError', 'ResourceWarning', 'RuntimeError', 'RuntimeWarning', 'StopAsyncIteration', 'StopIteration', 'SyntaxError', 'SyntaxWarning', 'SystemError', 'SystemExit', 'TabError', 'TimeoutError', 'True', 'TypeError', 'UnboundLocalError', 'UnicodeDecodeError', 'UnicodeEncodeError', 'UnicodeError', 'UnicodeTranslateError', 'UnicodeWarning', 'UserWarning', 'ValueError', 'Warning', 'WindowsError', 'ZeroDivisionError', '_IncompleteInputError', '__IPYTHON__', '__build_class__', '__debug__', '__doc__', '__import__', '__loader__', '__name__', '__package__', '__spec__', 'abs', 'aiter', 'all', 'anext', 'any', 'ascii', 'bin', 'bool', 'breakpoint', 'bytearray', 'bytes', 'callable', 'chr', 'classmethod', 'compile', 'complex', 'copyright', 'credits', 'delattr', 'dict', 'dir', 'display', 'divmod', 'enumerate', 'eval', 'exec', 'execfile', 'filter', 'float', 'format', 'frozenset', 'get_ipython', 'getattr', 'globals', 'hasattr', 'hash', 'help', 'hex', 'id', 'input', 'int', 'isinstance', 'issubclass', 'iter', 'len', 'license', 'list', 'locals', 'map', 'max', 'memoryview', 'min', 'next', 'object', 'oct', 'open', 'ord', 'pow', 'print', 'property', 'range', 'repr', 'reversed', 'round', 'runfile', 'set', 'setattr', 'slice', 'sorted', 'staticmethod', 'str', 'sum', 'super', 'tuple', 'type', 'vars', 'zip']\n"
     ]
    }
   ],
   "source": [
    "import builtins\n",
    "print(dir(builtins))"
   ]
  },
  {
   "cell_type": "code",
   "execution_count": 2,
   "id": "50703c50-4bf2-4576-8b31-2ff18f0f99c8",
   "metadata": {},
   "outputs": [
    {
     "name": "stdin",
     "output_type": "stream",
     "text": [
      "Nhập vào 2 cạnh của hình chữ nhật -1 3\n"
     ]
    },
    {
     "name": "stdout",
     "output_type": "stream",
     "text": [
      "Hãy nhập 2 cạnh > 0\n"
     ]
    },
    {
     "name": "stdin",
     "output_type": "stream",
     "text": [
      "Nhập vào 2 cạnh của hình chữ nhật a d\n"
     ]
    },
    {
     "name": "stdout",
     "output_type": "stream",
     "text": [
      "Hãy nhập đúng 2 số cạnh hình chữ nhật\n"
     ]
    },
    {
     "name": "stdin",
     "output_type": "stream",
     "text": [
      "Nhập vào 2 cạnh của hình chữ nhật 5 8.2\n"
     ]
    },
    {
     "name": "stdout",
     "output_type": "stream",
     "text": [
      "Diện tích: 41.0\n",
      "Chu vi: 26.4\n"
     ]
    }
   ],
   "source": [
    "# Bài 1\n",
    "while True:\n",
    "    try:\n",
    "        cd, cr = map(float,input('Nhập vào 2 cạnh của hình chữ nhật').split())\n",
    "        if cd <= 0 or cr <= 0:\n",
    "            print('Hãy nhập 2 cạnh > 0')\n",
    "            continue\n",
    "        else:\n",
    "            print(f'Diện tích: {cd*cr}')\n",
    "            print(f'Chu vi: {(cd+cr)*2}')\n",
    "        break\n",
    "    except ValueError:\n",
    "        print('Hãy nhập đúng 2 số cạnh hình chữ nhật')\n"
   ]
  },
  {
   "cell_type": "code",
   "execution_count": 10,
   "id": "3b92b1c6-1131-4e50-8130-c123b0400736",
   "metadata": {},
   "outputs": [
    {
     "name": "stdin",
     "output_type": "stream",
     "text": [
      "Nhập vào bán kính của đường tròn -1\n"
     ]
    },
    {
     "name": "stdout",
     "output_type": "stream",
     "text": [
      "Bán kính phải > 0\n"
     ]
    },
    {
     "name": "stdin",
     "output_type": "stream",
     "text": [
      "Nhập vào bán kính của đường tròn a\n"
     ]
    },
    {
     "name": "stdout",
     "output_type": "stream",
     "text": [
      "Hãy nhập đúng giá trị thực của bán kính!\n"
     ]
    },
    {
     "name": "stdin",
     "output_type": "stream",
     "text": [
      "Nhập vào bán kính của đường tròn 4\n"
     ]
    },
    {
     "name": "stdout",
     "output_type": "stream",
     "text": [
      "Chu vi: 25.132741228718345\n",
      "Diện tích: 50.26548245743669\n"
     ]
    }
   ],
   "source": [
    "# Bài 2\n",
    "while True:\n",
    "    try:\n",
    "        r = float(input('Nhập vào bán kính của đường tròn'))\n",
    "        if r <= 0:\n",
    "            print('Bán kính phải > 0')\n",
    "            continue\n",
    "        else:\n",
    "            import math\n",
    "            pi = math.pi\n",
    "            print(f'Chu vi: {2*r*math.pi}')\n",
    "            print(f'Diện tích: {math.pi*r**2}')\n",
    "        break\n",
    "    except ValueError:\n",
    "        print('Hãy nhập đúng giá trị thực của bán kính!')"
   ]
  },
  {
   "cell_type": "code",
   "execution_count": 19,
   "id": "840e151b-1628-464c-9deb-856b5d9f0c3f",
   "metadata": {},
   "outputs": [
    {
     "name": "stdin",
     "output_type": "stream",
     "text": [
      "Nhập vào 3 cạnh của tam giác 3 4 5\n"
     ]
    },
    {
     "name": "stdout",
     "output_type": "stream",
     "text": [
      "Đây là tam giác vuông\n"
     ]
    }
   ],
   "source": [
    "# Bài 3\n",
    "a, b, c = map(float, input('Nhập vào 3 cạnh của tam giác').split())\n",
    "while True:\n",
    "    try:\n",
    "        if a+b>c or a+c>b or b+c>a:\n",
    "            if a == b == c:\n",
    "                print('Đây là tam giác đều')\n",
    "                break\n",
    "            elif a==b or a==c or b==c: # Dùng hàm .isclose\n",
    "                if a**2+b**2==c**2 or a**2+c**2==b**2 or c**2+b**2==a**2:\n",
    "                    print('Đây là tam giác vuông cân')\n",
    "                    break\n",
    "                else:\n",
    "                    print('Đây là tam giác cân')\n",
    "                    break\n",
    "            elif a**2+b**2==c**2 or a**2+c**2==b**2 or c**2+b**2==a**2:\n",
    "                print('Đây là tam giác vuông')\n",
    "                break\n",
    "            else:\n",
    "                print('Đây là tam giác thường')\n",
    "                break\n",
    "    except ValueError:\n",
    "        print('Hãy nhập đúng gtri số')"
   ]
  },
  {
   "cell_type": "code",
   "execution_count": 1,
   "id": "af09062e-b98d-4266-8183-7fa0394625b9",
   "metadata": {},
   "outputs": [
    {
     "name": "stdout",
     "output_type": "stream",
     "text": [
      "Giải phương trình bậc 1 ax+b=0\n"
     ]
    },
    {
     "name": "stdin",
     "output_type": "stream",
     "text": [
      "Nhập 2 hằng số a,b: a\n"
     ]
    },
    {
     "name": "stdout",
     "output_type": "stream",
     "text": [
      "Nhập đúng 2 hằng số\n"
     ]
    },
    {
     "name": "stdin",
     "output_type": "stream",
     "text": [
      "Nhập 2 hằng số a,b: 1 2 3\n"
     ]
    },
    {
     "name": "stdout",
     "output_type": "stream",
     "text": [
      "Nhập đúng 2 hằng số\n"
     ]
    },
    {
     "name": "stdin",
     "output_type": "stream",
     "text": [
      "Nhập 2 hằng số a,b: 0 0\n"
     ]
    },
    {
     "name": "stdout",
     "output_type": "stream",
     "text": [
      "Phương trình có vô số nghiệm\n"
     ]
    }
   ],
   "source": [
    "# Bài 4\n",
    "print('Giải phương trình bậc 1 ax+b=0')\n",
    "while True:\n",
    "    try:\n",
    "        a, b = map(float, input('Nhập 2 hằng số a,b:').split())\n",
    "        if a==0 and b==0:\n",
    "            print('Phương trình có vô số nghiệm')\n",
    "        elif a==0 and b!=0:\n",
    "            print('Phương trình vô nghiệm')\n",
    "        else:\n",
    "            print(f'Phương trình có nghiệm x = {-b/a: .2f}')\n",
    "        break\n",
    "    except ValueError:\n",
    "        print('Nhập đúng 2 hằng số')"
   ]
  },
  {
   "cell_type": "code",
   "execution_count": 3,
   "id": "6421717d-2b22-4983-a34d-1236235c029e",
   "metadata": {},
   "outputs": [
    {
     "name": "stdout",
     "output_type": "stream",
     "text": [
      "Giải phương trình bậc 2 ax^2 + bx + c = 0\n"
     ]
    },
    {
     "name": "stdin",
     "output_type": "stream",
     "text": [
      "Nhập 3 hằng số a,b,c 2 4 5\n"
     ]
    },
    {
     "name": "stdout",
     "output_type": "stream",
     "text": [
      "Phương trình vô nghiệm\n"
     ]
    }
   ],
   "source": [
    "# Bài 5\n",
    "print('Giải phương trình bậc 2 ax^2 + bx + c = 0')\n",
    "while True:\n",
    "    try:\n",
    "        a, b, c = map(float, input('Nhập 3 hằng số a,b,c').split())\n",
    "        delta = b**2-4*a*c\n",
    "        if a==0 and b==0 and c==0:\n",
    "            print('Phương trình có vô số nghiệm')\n",
    "        elif delta < 0:\n",
    "            print('Phương trình vô nghiệm')\n",
    "        elif delta == 0:\n",
    "            print(f'Phương trình có nghiệm kép x = {-b/(2*a): .2f}')\n",
    "        else:\n",
    "            print(f'Phương trình có 2 nghiệm x1, x2 = {(-b + delta**0.5)/(2*a): .2f}, {(-b - delta**0.5)/(2*a): .2f}')\n",
    "        break\n",
    "    except ValueError:\n",
    "        print('Nhập đúng 3 hằng số')"
   ]
  },
  {
   "cell_type": "code",
   "execution_count": 3,
   "id": "b4af6519-6cc9-4e77-9287-93c294c7eff8",
   "metadata": {},
   "outputs": [
    {
     "name": "stdin",
     "output_type": "stream",
     "text": [
      "Nhập giá trị của a,b,c,d: -1 -2 -3 -4\n"
     ]
    },
    {
     "name": "stdout",
     "output_type": "stream",
     "text": [
      "Giá trị lớn nhất trong 4 số là: -1.0\n"
     ]
    }
   ],
   "source": [
    "# Bài 6\n",
    "while True:\n",
    "    try:\n",
    "        a, b, c, d = map(float, input('Nhập giá trị của a,b,c,d:').split())\n",
    "        max_value = max(a, b, c, d)\n",
    "        print('Giá trị lớn nhất trong 4 số là:', max_value)\n",
    "        break\n",
    "    except ValueError:\n",
    "        print('Hãy nhập đúng 4 số!')"
   ]
  },
  {
   "cell_type": "code",
   "execution_count": 4,
   "id": "a72d218e-79b0-473d-afce-74b1f0a1d9d4",
   "metadata": {},
   "outputs": [
    {
     "name": "stdin",
     "output_type": "stream",
     "text": [
      "Nhập giá trị của a,b,c,d: -24 3 4 7.65\n"
     ]
    },
    {
     "name": "stdout",
     "output_type": "stream",
     "text": [
      "Giá trị nhỏ nhất trong 4 số là: -24.0\n"
     ]
    }
   ],
   "source": [
    "# Bài 7\n",
    "while True:\n",
    "    try:\n",
    "        a, b, c, d = map(float, input('Nhập giá trị của a,b,c,d:').split())\n",
    "        min_value = min(a, b, c, d)\n",
    "        print('Giá trị nhỏ nhất trong 4 số là:', min_value)\n",
    "        break\n",
    "    except ValueError:\n",
    "        print('Hãy nhập đúng 4 số!')"
   ]
  },
  {
   "cell_type": "code",
   "execution_count": 2,
   "id": "03e2d8ab-fb6b-4d62-97b9-2572c3920a01",
   "metadata": {},
   "outputs": [
    {
     "name": "stdin",
     "output_type": "stream",
     "text": [
      "Nhập a:  1\n",
      "Nhập b:  2\n",
      "Nhập c:  3\n",
      "Nhập d:  4\n",
      "Nhập m:  5\n",
      "Nhập n:  6\n"
     ]
    },
    {
     "name": "stdout",
     "output_type": "stream",
     "text": [
      "Hệ có nghiệm duy nhất:\n",
      "x = -4.0\n",
      "y = 4.5\n"
     ]
    }
   ],
   "source": [
    "# Bài 8\n",
    "while True:\n",
    "    try:\n",
    "        # Nhập các hệ số\n",
    "        a = float(input(\"Nhập a: \"))\n",
    "        b = float(input(\"Nhập b: \"))\n",
    "        c = float(input(\"Nhập c: \"))\n",
    "        d = float(input(\"Nhập d: \"))\n",
    "        m = float(input(\"Nhập m: \"))\n",
    "        n = float(input(\"Nhập n: \"))\n",
    "        \n",
    "        # Tính định thức\n",
    "        D = a * d - b * c\n",
    "        \n",
    "        if D != 0:\n",
    "            # Tính nghiệm theo công thức Cramer\n",
    "            x = (m * d - b * n) / D\n",
    "            y = (a * n - m * c) / D\n",
    "            print(\"Hệ có nghiệm duy nhất:\")\n",
    "            print(\"x =\", x)\n",
    "            print(\"y =\", y)\n",
    "        else:\n",
    "            # Khi D = 0 cần xét tiếp\n",
    "            if a * n == m * c and b * n == m * d:\n",
    "                print(\"Hệ có vô số nghiệm.\")\n",
    "            else:\n",
    "                print(\"Hệ vô nghiệm.\")\n",
    "        break\n",
    "    except ValueError:\n",
    "        print('Hãy nhập đúng giá trị của các biến số')"
   ]
  },
  {
   "cell_type": "code",
   "execution_count": 2,
   "id": "462a6777-19af-432f-9cc3-cbe21cfe53d6",
   "metadata": {},
   "outputs": [
    {
     "name": "stdin",
     "output_type": "stream",
     "text": [
      "Nhập thời gian (giây): 4600\n"
     ]
    },
    {
     "name": "stdout",
     "output_type": "stream",
     "text": [
      "4600.0 giây có độ dài = 1.0 giờ, 16.0 phút, 40.0 giây\n"
     ]
    }
   ],
   "source": [
    "# Bài 9\n",
    "while True:\n",
    "    try:\n",
    "        x = float(input('Nhập thời gian (giây):'))\n",
    "        Hours = x // 3600\n",
    "        Remain = x % 3600\n",
    "        Minutes = Remain // 60\n",
    "        Seconds = Remain % 60\n",
    "        print(f'{x} giây có độ dài = {Hours} giờ, {Minutes} phút, {Seconds} giây')\n",
    "        break\n",
    "    except ValueError:\n",
    "        print('Hãy nhập đúng định dạng của thời gian (giây)!')"
   ]
  },
  {
   "cell_type": "code",
   "execution_count": 5,
   "id": "2c87b51b-e628-4ee5-9261-a51ecc108b74",
   "metadata": {},
   "outputs": [
    {
     "name": "stdin",
     "output_type": "stream",
     "text": [
      "Nhập hoành độ tâm I của đường tròn 2\n",
      "Nhập tung độ tâm I của đường tròn 4\n",
      "Nhập bán kính của đường tròn 8\n",
      "Nhập hoành độ điểm A bất kì 1\n",
      "Nhập tung độ điểm A bất kì 2\n"
     ]
    },
    {
     "name": "stdout",
     "output_type": "stream",
     "text": [
      "Điểm A nằm trong đường tròn\n"
     ]
    }
   ],
   "source": [
    "# Bài 10\n",
    "while True:\n",
    "    try:\n",
    "        a = float(input('Nhập hoành độ tâm I của đường tròn'))\n",
    "        b = float(input('Nhập tung độ tâm I của đường tròn'))\n",
    "        r = float(input('Nhập bán kính của đường tròn'))\n",
    "        if r < 0:\n",
    "            print('Bán kính phải có giá trị dương!')\n",
    "        else:\n",
    "            x = float(input('Nhập hoành độ điểm A bất kì'))\n",
    "            y = float(input('Nhập tung độ điểm A bất kì'))\n",
    "\n",
    "            if r == 0:\n",
    "                if a == x and b == y:\n",
    "                    print('Điểm A trùng với tâm (trên đường tròn có r=0)')\n",
    "                else:\n",
    "                    print('Điểm A nằm ngoài đường tròn')\n",
    "            else:\n",
    "                d = (x - a)**2 + (y - b)**2\n",
    "        \n",
    "                if d == r**2:\n",
    "                    print('Điểm A nằm trên đường tròn')\n",
    "                elif d < r**2:\n",
    "                    print('Điểm A nằm trong đường tròn')\n",
    "                else:\n",
    "                    print('Điểm A nằm ngoài đường tròn')\n",
    "                break\n",
    "    except ValueError:\n",
    "        print('Vui lòng nhập đúng định dạng của các giá trị')"
   ]
  },
  {
   "cell_type": "code",
   "execution_count": 3,
   "id": "d0b648e1-55f0-46fa-8398-541b569f7fb8",
   "metadata": {},
   "outputs": [
    {
     "name": "stdout",
     "output_type": "stream",
     "text": [
      "Tính x^y\n"
     ]
    },
    {
     "name": "stdin",
     "output_type": "stream",
     "text": [
      "Nhập giá trị của x: 0\n",
      "Nhập giá trị của y: -1\n"
     ]
    },
    {
     "name": "stdout",
     "output_type": "stream",
     "text": [
      "Không thể tính được giá trị!\n"
     ]
    },
    {
     "name": "stdin",
     "output_type": "stream",
     "text": [
      "Nhập giá trị của x: 2\n",
      "Nhập giá trị của y: 3\n"
     ]
    },
    {
     "name": "stdout",
     "output_type": "stream",
     "text": [
      "x^y = 8.0\n"
     ]
    }
   ],
   "source": [
    "# Bài 11\n",
    "print('Tính x^y')\n",
    "while True:\n",
    "    try:\n",
    "        x = float(input('Nhập giá trị của x:'))\n",
    "        y = float(input('Nhập giá trị của y:'))\n",
    "\n",
    "        if x == 0 and y < 0:\n",
    "            print('Không thể tính được giá trị!')\n",
    "        else:\n",
    "            print(f'x^y = {x**y}')\n",
    "            break\n",
    "    except ValueError:\n",
    "        print('Hãy nhập đúng định dạng số của x,y:')"
   ]
  },
  {
   "cell_type": "code",
   "execution_count": null,
   "id": "1b6eef3b-f16e-4522-a214-4b157031a6a4",
   "metadata": {},
   "outputs": [],
   "source": []
  }
 ],
 "metadata": {
  "kernelspec": {
   "display_name": "Python 3 (ipykernel)",
   "language": "python",
   "name": "python3"
  },
  "language_info": {
   "codemirror_mode": {
    "name": "ipython",
    "version": 3
   },
   "file_extension": ".py",
   "mimetype": "text/x-python",
   "name": "python",
   "nbconvert_exporter": "python",
   "pygments_lexer": "ipython3",
   "version": "3.13.7"
  }
 },
 "nbformat": 4,
 "nbformat_minor": 5
}
