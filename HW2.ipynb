{
 "cells": [
  {
   "cell_type": "code",
   "execution_count": 1,
   "id": "75248ff3-e80b-4b53-ad33-b8b0ef8b51cd",
   "metadata": {},
   "outputs": [
    {
     "name": "stdout",
     "output_type": "stream",
     "text": [
      "['ArithmeticError', 'AssertionError', 'AttributeError', 'BaseException', 'BaseExceptionGroup', 'BlockingIOError', 'BrokenPipeError', 'BufferError', 'BytesWarning', 'ChildProcessError', 'ConnectionAbortedError', 'ConnectionError', 'ConnectionRefusedError', 'ConnectionResetError', 'DeprecationWarning', 'EOFError', 'Ellipsis', 'EncodingWarning', 'EnvironmentError', 'Exception', 'ExceptionGroup', 'False', 'FileExistsError', 'FileNotFoundError', 'FloatingPointError', 'FutureWarning', 'GeneratorExit', 'IOError', 'ImportError', 'ImportWarning', 'IndentationError', 'IndexError', 'InterruptedError', 'IsADirectoryError', 'KeyError', 'KeyboardInterrupt', 'LookupError', 'MemoryError', 'ModuleNotFoundError', 'NameError', 'None', 'NotADirectoryError', 'NotImplemented', 'NotImplementedError', 'OSError', 'OverflowError', 'PendingDeprecationWarning', 'PermissionError', 'ProcessLookupError', 'PythonFinalizationError', 'RecursionError', 'ReferenceError', 'ResourceWarning', 'RuntimeError', 'RuntimeWarning', 'StopAsyncIteration', 'StopIteration', 'SyntaxError', 'SyntaxWarning', 'SystemError', 'SystemExit', 'TabError', 'TimeoutError', 'True', 'TypeError', 'UnboundLocalError', 'UnicodeDecodeError', 'UnicodeEncodeError', 'UnicodeError', 'UnicodeTranslateError', 'UnicodeWarning', 'UserWarning', 'ValueError', 'Warning', 'WindowsError', 'ZeroDivisionError', '_IncompleteInputError', '__IPYTHON__', '__build_class__', '__debug__', '__doc__', '__import__', '__loader__', '__name__', '__package__', '__spec__', 'abs', 'aiter', 'all', 'anext', 'any', 'ascii', 'bin', 'bool', 'breakpoint', 'bytearray', 'bytes', 'callable', 'chr', 'classmethod', 'compile', 'complex', 'copyright', 'credits', 'delattr', 'dict', 'dir', 'display', 'divmod', 'enumerate', 'eval', 'exec', 'execfile', 'filter', 'float', 'format', 'frozenset', 'get_ipython', 'getattr', 'globals', 'hasattr', 'hash', 'help', 'hex', 'id', 'input', 'int', 'isinstance', 'issubclass', 'iter', 'len', 'license', 'list', 'locals', 'map', 'max', 'memoryview', 'min', 'next', 'object', 'oct', 'open', 'ord', 'pow', 'print', 'property', 'range', 'repr', 'reversed', 'round', 'runfile', 'set', 'setattr', 'slice', 'sorted', 'staticmethod', 'str', 'sum', 'super', 'tuple', 'type', 'vars', 'zip']\n"
     ]
    }
   ],
   "source": [
    "import builtins\n",
    "print(dir(builtins))"
   ]
  },
  {
   "cell_type": "code",
   "execution_count": 2,
   "id": "50703c50-4bf2-4576-8b31-2ff18f0f99c8",
   "metadata": {},
   "outputs": [
    {
     "name": "stdin",
     "output_type": "stream",
     "text": [
      "Nhập vào 2 cạnh của hình chữ nhật -1 3\n"
     ]
    },
    {
     "name": "stdout",
     "output_type": "stream",
     "text": [
      "Hãy nhập 2 cạnh > 0\n"
     ]
    },
    {
     "name": "stdin",
     "output_type": "stream",
     "text": [
      "Nhập vào 2 cạnh của hình chữ nhật a d\n"
     ]
    },
    {
     "name": "stdout",
     "output_type": "stream",
     "text": [
      "Hãy nhập đúng 2 số cạnh hình chữ nhật\n"
     ]
    },
    {
     "name": "stdin",
     "output_type": "stream",
     "text": [
      "Nhập vào 2 cạnh của hình chữ nhật 5 8.2\n"
     ]
    },
    {
     "name": "stdout",
     "output_type": "stream",
     "text": [
      "Diện tích: 41.0\n",
      "Chu vi: 26.4\n"
     ]
    }
   ],
   "source": [
    "# Bài 1\n",
    "while True:\n",
    "    try:\n",
    "        cd, cr = map(float,input('Nhập vào 2 cạnh của hình chữ nhật').split())\n",
    "        if cd <= 0 or cr <= 0:\n",
    "            print('Hãy nhập 2 cạnh > 0')\n",
    "            continue\n",
    "        else:\n",
    "            print(f'Diện tích: {cd*cr}')\n",
    "            print(f'Chu vi: {(cd+cr)*2}')\n",
    "        break\n",
    "    except ValueError:\n",
    "        print('Hãy nhập đúng 2 số cạnh hình chữ nhật')\n"
   ]
  },
  {
   "cell_type": "code",
   "execution_count": 10,
   "id": "3b92b1c6-1131-4e50-8130-c123b0400736",
   "metadata": {},
   "outputs": [
    {
     "name": "stdin",
     "output_type": "stream",
     "text": [
      "Nhập vào bán kính của đường tròn -1\n"
     ]
    },
    {
     "name": "stdout",
     "output_type": "stream",
     "text": [
      "Bán kính phải > 0\n"
     ]
    },
    {
     "name": "stdin",
     "output_type": "stream",
     "text": [
      "Nhập vào bán kính của đường tròn a\n"
     ]
    },
    {
     "name": "stdout",
     "output_type": "stream",
     "text": [
      "Hãy nhập đúng giá trị thực của bán kính!\n"
     ]
    },
    {
     "name": "stdin",
     "output_type": "stream",
     "text": [
      "Nhập vào bán kính của đường tròn 4\n"
     ]
    },
    {
     "name": "stdout",
     "output_type": "stream",
     "text": [
      "Chu vi: 25.132741228718345\n",
      "Diện tích: 50.26548245743669\n"
     ]
    }
   ],
   "source": [
    "# Bài 2\n",
    "while True:\n",
    "    try:\n",
    "        r = float(input('Nhập vào bán kính của đường tròn'))\n",
    "        if r <= 0:\n",
    "            print('Bán kính phải > 0')\n",
    "            continue\n",
    "        else:\n",
    "            import math\n",
    "            pi = math.pi\n",
    "            print(f'Chu vi: {2*r*math.pi}')\n",
    "            print(f'Diện tích: {math.pi*r**2}')\n",
    "        break\n",
    "    except ValueError:\n",
    "        print('Hãy nhập đúng giá trị thực của bán kính!')"
   ]
  },
  {
   "cell_type": "code",
   "execution_count": 19,
   "id": "840e151b-1628-464c-9deb-856b5d9f0c3f",
   "metadata": {},
   "outputs": [
    {
     "name": "stdin",
     "output_type": "stream",
     "text": [
      "Nhập vào 3 cạnh của tam giác 3 4 5\n"
     ]
    },
    {
     "name": "stdout",
     "output_type": "stream",
     "text": [
      "Đây là tam giác vuông\n"
     ]
    }
   ],
   "source": [
    "# Bài 3\n",
    "a, b, c = map(float, input('Nhập vào 3 cạnh của tam giác').split())\n",
    "while True:\n",
    "    try:\n",
    "        if a+b>c or a+c>b or b+c>a:\n",
    "            if a == b == c:\n",
    "                print('Đây là tam giác đều')\n",
    "                break\n",
    "            elif a==b or a==c or b==c: # Dùng hàm .isclose\n",
    "                if a**2+b**2==c**2 or a**2+c**2==b**2 or c**2+b**2==a**2:\n",
    "                    print('Đây là tam giác vuông cân')\n",
    "                    break\n",
    "                else:\n",
    "                    print('Đây là tam giác cân')\n",
    "                    break\n",
    "            elif a**2+b**2==c**2 or a**2+c**2==b**2 or c**2+b**2==a**2:\n",
    "                print('Đây là tam giác vuông')\n",
    "                break\n",
    "            else:\n",
    "                print('Đây là tam giác thường')\n",
    "                break\n",
    "    except ValueError:\n",
    "        print('Hãy nhập đúng gtri số')"
   ]
  },
  {
   "cell_type": "code",
   "execution_count": 1,
   "id": "af09062e-b98d-4266-8183-7fa0394625b9",
   "metadata": {},
   "outputs": [
    {
     "name": "stdout",
     "output_type": "stream",
     "text": [
      "Giải phương trình bậc 1 ax+b=0\n"
     ]
    },
    {
     "name": "stdin",
     "output_type": "stream",
     "text": [
      "Nhập 2 hằng số a,b: a\n"
     ]
    },
    {
     "name": "stdout",
     "output_type": "stream",
     "text": [
      "Nhập đúng 2 hằng số\n"
     ]
    },
    {
     "name": "stdin",
     "output_type": "stream",
     "text": [
      "Nhập 2 hằng số a,b: 1 2 3\n"
     ]
    },
    {
     "name": "stdout",
     "output_type": "stream",
     "text": [
      "Nhập đúng 2 hằng số\n"
     ]
    },
    {
     "name": "stdin",
     "output_type": "stream",
     "text": [
      "Nhập 2 hằng số a,b: 0 0\n"
     ]
    },
    {
     "name": "stdout",
     "output_type": "stream",
     "text": [
      "Phương trình có vô số nghiệm\n"
     ]
    }
   ],
   "source": [
    "# Bài 4\n",
    "print('Giải phương trình bậc 1 ax+b=0')\n",
    "while True:\n",
    "    try:\n",
    "        a, b = map(float, input('Nhập 2 hằng số a,b:').split())\n",
    "        if a==0 and b==0:\n",
    "            print('Phương trình có vô số nghiệm')\n",
    "        elif a==0 and b!=0:\n",
    "            print('Phương trình vô nghiệm')\n",
    "        else:\n",
    "            print(f'Phương trình có nghiệm x = {-b/a: .2f}')\n",
    "        break\n",
    "    except ValueError:\n",
    "        print('Nhập đúng 2 hằng số')"
   ]
  },
  {
   "cell_type": "code",
   "execution_count": 3,
   "id": "6421717d-2b22-4983-a34d-1236235c029e",
   "metadata": {},
   "outputs": [
    {
     "name": "stdout",
     "output_type": "stream",
     "text": [
      "Giải phương trình bậc 2 ax^2 + bx + c = 0\n"
     ]
    },
    {
     "name": "stdin",
     "output_type": "stream",
     "text": [
      "Nhập 3 hằng số a,b,c 2 4 5\n"
     ]
    },
    {
     "name": "stdout",
     "output_type": "stream",
     "text": [
      "Phương trình vô nghiệm\n"
     ]
    }
   ],
   "source": [
    "# Bài 5\n",
    "print('Giải phương trình bậc 2 ax^2 + bx + c = 0')\n",
    "while True:\n",
    "    try:\n",
    "        a, b, c = map(float, input('Nhập 3 hằng số a,b,c').split())\n",
    "        delta = b**2-4*a*c\n",
    "        if a==0 and b==0 and c==0:\n",
    "            print('Phương trình có vô số nghiệm')\n",
    "        elif delta < 0:\n",
    "            print('Phương trình vô nghiệm')\n",
    "        elif delta == 0:\n",
    "            print(f'Phương trình có nghiệm kép x = {-b/(2*a): .2f}')\n",
    "        else:\n",
    "            print(f'Phương trình có 2 nghiệm x1, x2 = {(-b + delta**0.5)/(2*a): .2f}, {(-b - delta**0.5)/(2*a): .2f}')\n",
    "        break\n",
    "    except ValueError:\n",
    "        print('Nhập đúng 3 hằng số')"
   ]
  },
  {
   "cell_type": "code",
   "execution_count": null,
   "id": "b4af6519-6cc9-4e77-9287-93c294c7eff8",
   "metadata": {},
   "outputs": [],
   "source": [
    "# Bài 6\n"
   ]
  }
 ],
 "metadata": {
  "kernelspec": {
   "display_name": "Python 3 (ipykernel)",
   "language": "python",
   "name": "python3"
  },
  "language_info": {
   "codemirror_mode": {
    "name": "ipython",
    "version": 3
   },
   "file_extension": ".py",
   "mimetype": "text/x-python",
   "name": "python",
   "nbconvert_exporter": "python",
   "pygments_lexer": "ipython3",
   "version": "3.13.7"
  }
 },
 "nbformat": 4,
 "nbformat_minor": 5
}
