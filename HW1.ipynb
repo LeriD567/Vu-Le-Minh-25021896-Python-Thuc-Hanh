{
 "cells": [
  {
   "cell_type": "code",
   "execution_count": 14,
   "id": "1b2443cd-57fa-4e9e-9881-118ceb4da4ca",
   "metadata": {},
   "outputs": [
    {
     "name": "stdin",
     "output_type": "stream",
     "text": [
      "Nhập một số nguyên n: 2.5\n"
     ]
    },
    {
     "name": "stdout",
     "output_type": "stream",
     "text": [
      "Lỗi: Hãy nhập lại 1 số nguyên hợp lệ\n"
     ]
    },
    {
     "name": "stdin",
     "output_type": "stream",
     "text": [
      "Nhập một số nguyên n: d\n"
     ]
    },
    {
     "name": "stdout",
     "output_type": "stream",
     "text": [
      "Lỗi: Hãy nhập lại 1 số nguyên hợp lệ\n"
     ]
    },
    {
     "name": "stdin",
     "output_type": "stream",
     "text": [
      "Nhập một số nguyên n: -11\n"
     ]
    },
    {
     "name": "stdout",
     "output_type": "stream",
     "text": [
      "Gấp đôi của -11 là: -22\n"
     ]
    }
   ],
   "source": [
    "## Bài 1\n",
    "#n = int(input(\"Nhập một số nguyên n: \"))\n",
    "#print(\"Gấp đôi của n là:\", 2 * n)\n",
    "while True:\n",
    "    try:\n",
    "        n = int(input('Nhập một số nguyên n:'))\n",
    "        break\n",
    "    except ValueError:\n",
    "        print('Lỗi: Hãy nhập lại 1 số nguyên hợp lệ')\n",
    "print(f'Gấp đôi của {n} là: {2 * n}')"
   ]
  },
  {
   "cell_type": "code",
   "execution_count": 34,
   "id": "36cad120-842a-4306-bf51-4b19f29d0db8",
   "metadata": {},
   "outputs": [
    {
     "name": "stdin",
     "output_type": "stream",
     "text": [
      "Nhập chiều dài và chiều rộng khu đất: -1 4\n"
     ]
    },
    {
     "name": "stdout",
     "output_type": "stream",
     "text": [
      "Chiều dài và chiều rộng phải > 0. Hãy nhập lại\n"
     ]
    },
    {
     "name": "stdin",
     "output_type": "stream",
     "text": [
      "Nhập chiều dài và chiều rộng khu đất: 2.4 5\n"
     ]
    },
    {
     "name": "stdout",
     "output_type": "stream",
     "text": [
      "Diện tích trồng cây xung quanh là:  7.48\n"
     ]
    }
   ],
   "source": [
    "## Bài 2\n",
    "while True:\n",
    "    try:\n",
    "        a, b = map(float, input('Nhập chiều dài và chiều rộng khu đất:').split())\n",
    "        cd = max(a,b)\n",
    "        cr = min(a,b)\n",
    "        if a <= 0 or b <= 0:\n",
    "            print('Chiều dài và chiều rộng phải > 0. Hãy nhập lại')\n",
    "            continue\n",
    "        break\n",
    "    except ValueError:\n",
    "       print('Lỗi: Hãy nhập lại chiều dài, chiều rộng hợp lệ')\n",
    "print(f'Diện tích trồng cây xung quanh là: {cd*cr - ((cr/2)**2)*3.14: .2f}')"
   ]
  },
  {
   "cell_type": "code",
   "execution_count": 5,
   "id": "2fa9f5fc-d1e7-4911-843e-d10f638fa9b9",
   "metadata": {},
   "outputs": [
    {
     "name": "stdin",
     "output_type": "stream",
     "text": [
      "Nhập 1 kí tự bất kì: 1\n"
     ]
    },
    {
     "name": "stdout",
     "output_type": "stream",
     "text": [
      "Đây không phải kí tự chữ cái\n"
     ]
    },
    {
     "name": "stdin",
     "output_type": "stream",
     "text": [
      "Nhập 1 kí tự bất kì: 2\n"
     ]
    },
    {
     "name": "stdout",
     "output_type": "stream",
     "text": [
      "Đây không phải kí tự chữ cái\n"
     ]
    },
    {
     "name": "stdin",
     "output_type": "stream",
     "text": [
      "Nhập 1 kí tự bất kì: 12\n"
     ]
    },
    {
     "name": "stdout",
     "output_type": "stream",
     "text": [
      "Bạn phải nhập đúng 1 kí tự!\n"
     ]
    },
    {
     "name": "stdin",
     "output_type": "stream",
     "text": [
      "Nhập 1 kí tự bất kì: ad\n"
     ]
    },
    {
     "name": "stdout",
     "output_type": "stream",
     "text": [
      "Bạn phải nhập đúng 1 kí tự!\n"
     ]
    },
    {
     "name": "stdin",
     "output_type": "stream",
     "text": [
      "Nhập 1 kí tự bất kì: D\n"
     ]
    },
    {
     "name": "stdout",
     "output_type": "stream",
     "text": [
      "Kí tự viết thường của D là: d\n"
     ]
    }
   ],
   "source": [
    "## Bài 3\n",
    "while True:\n",
    "    c = input('Nhập 1 kí tự bất kì:')\n",
    "    if len(c) != 1:\n",
    "         print('Bạn phải nhập đúng 1 kí tự!')\n",
    "         continue\n",
    "    else:\n",
    "        if c.isupper():\n",
    "            print(f'Kí tự viết thường của {c} là: {c.lower()}')\n",
    "            break\n",
    "        elif c.islower():\n",
    "            print(f'Kí tự viết in hoa của {c} là: {c.upper()}')\n",
    "            break\n",
    "        else:\n",
    "            print('Đây không phải kí tự chữ cái')"
   ]
  },
  {
   "cell_type": "code",
   "execution_count": 6,
   "id": "a14dbb2a-f2fc-4ef5-9900-66a1b12155fa",
   "metadata": {},
   "outputs": [
    {
     "name": "stdin",
     "output_type": "stream",
     "text": [
      "Hãy nhập 1 kí tự chữ cái: 1\n"
     ]
    },
    {
     "name": "stdout",
     "output_type": "stream",
     "text": [
      "1 không phải kí tự alphabet\n"
     ]
    },
    {
     "name": "stdin",
     "output_type": "stream",
     "text": [
      "Hãy nhập 1 kí tự chữ cái: 2\n"
     ]
    },
    {
     "name": "stdout",
     "output_type": "stream",
     "text": [
      "2 không phải kí tự alphabet\n"
     ]
    },
    {
     "name": "stdin",
     "output_type": "stream",
     "text": [
      "Hãy nhập 1 kí tự chữ cái: 12\n"
     ]
    },
    {
     "name": "stdout",
     "output_type": "stream",
     "text": [
      "Bạn phải nhập đúng 1 kí tự!\n"
     ]
    },
    {
     "name": "stdin",
     "output_type": "stream",
     "text": [
      "Hãy nhập 1 kí tự chữ cái: qs\n"
     ]
    },
    {
     "name": "stdout",
     "output_type": "stream",
     "text": [
      "Bạn phải nhập đúng 1 kí tự!\n"
     ]
    },
    {
     "name": "stdin",
     "output_type": "stream",
     "text": [
      "Hãy nhập 1 kí tự chữ cái: E\n"
     ]
    },
    {
     "name": "stdout",
     "output_type": "stream",
     "text": [
      "E là kí tự alphabet\n"
     ]
    }
   ],
   "source": [
    "## Bài 4\n",
    "while True:\n",
    "    c = input('Hãy nhập 1 kí tự chữ cái:')\n",
    "    if len(c) != 1:\n",
    "        print('Bạn phải nhập đúng 1 kí tự!')\n",
    "        continue\n",
    "    else:\n",
    "        if c.isupper() or c.islower():\n",
    "            print(f'{c} là kí tự alphabet')\n",
    "            break\n",
    "        else:\n",
    "            print(f'{c} không phải kí tự alphabet')"
   ]
  },
  {
   "cell_type": "code",
   "execution_count": 6,
   "id": "bb16d883-bb5f-468a-a0d7-be183db53c29",
   "metadata": {},
   "outputs": [
    {
     "name": "stdin",
     "output_type": "stream",
     "text": [
      "Hãy nhập 1 chữ cái in hoa: 1 \n"
     ]
    },
    {
     "name": "stdout",
     "output_type": "stream",
     "text": [
      "Hãy nhập đúng 1 chữ cái in hoa (A-Z):\n"
     ]
    },
    {
     "name": "stdin",
     "output_type": "stream",
     "text": [
      "Hãy nhập 1 chữ cái in hoa: a\n"
     ]
    },
    {
     "name": "stdout",
     "output_type": "stream",
     "text": [
      "Hãy nhập đúng 1 chữ cái in hoa (A-Z):\n"
     ]
    },
    {
     "name": "stdin",
     "output_type": "stream",
     "text": [
      "Hãy nhập 1 chữ cái in hoa: ă\n"
     ]
    },
    {
     "name": "stdout",
     "output_type": "stream",
     "text": [
      "Hãy nhập đúng 1 chữ cái in hoa (A-Z):\n"
     ]
    },
    {
     "name": "stdin",
     "output_type": "stream",
     "text": [
      "Hãy nhập 1 chữ cái in hoa: D\n"
     ]
    },
    {
     "name": "stdout",
     "output_type": "stream",
     "text": [
      "Chữ thường trước của d là: c\n"
     ]
    }
   ],
   "source": [
    "## Bài 5\n",
    "while True:\n",
    "    c = input('Hãy nhập 1 chữ cái in hoa:')\n",
    "    if len(c) != 1 or not c.isupper():\n",
    "        print('Hãy nhập đúng 1 chữ cái in hoa (A-Z):')\n",
    "        continue\n",
    "    else:\n",
    "        if c == 'A':\n",
    "            print('Chữ thường tương ứng là \"a\". Không có chữ cái liền trước')\n",
    "            break\n",
    "        else:\n",
    "            print( f'Chữ thường trước của {c.lower()} là: {chr(ord(c.lower()) - 1)}')\n",
    "            break"
   ]
  },
  {
   "cell_type": "code",
   "execution_count": 9,
   "id": "0e70e2b4-e498-47ad-8a3a-50bbbdd5f27d",
   "metadata": {},
   "outputs": [
    {
     "name": "stdin",
     "output_type": "stream",
     "text": [
      "Nhập 3 cạnh a, b, c của tam giác: -12 2 3\n"
     ]
    },
    {
     "name": "stdout",
     "output_type": "stream",
     "text": [
      "Đây không phải 3 cạnh của tam giác. Hãy nhập lại\n"
     ]
    },
    {
     "name": "stdin",
     "output_type": "stream",
     "text": [
      "Nhập 3 cạnh a, b, c của tam giác: a be e\n"
     ]
    },
    {
     "name": "stdout",
     "output_type": "stream",
     "text": [
      "Hãy nhập số! Vui lòng thử lại.\n"
     ]
    },
    {
     "name": "stdin",
     "output_type": "stream",
     "text": [
      "Nhập 3 cạnh a, b, c của tam giác: 1 2 3\n"
     ]
    },
    {
     "name": "stdout",
     "output_type": "stream",
     "text": [
      "Đây không phải 3 cạnh của tam giác. Hãy nhập lại\n"
     ]
    },
    {
     "name": "stdin",
     "output_type": "stream",
     "text": [
      "Nhập 3 cạnh a, b, c của tam giác: 2 5 6\n"
     ]
    },
    {
     "name": "stdout",
     "output_type": "stream",
     "text": [
      "Diện tích của tam giác là:  21.9\n"
     ]
    }
   ],
   "source": [
    "## Bài 6\n",
    "while True:\n",
    "    try:\n",
    "        a, b, c = map(float, input('Nhập 3 cạnh a, b, c của tam giác:').split())\n",
    "        if (a>0 and b>0 and c>0) and (a+b>c and a+c>b and b+c>a):\n",
    "            p = (a+b+c)/2\n",
    "            print(f'Diện tích của tam giác là: {p*(p-a)*(p-b)*(p-c): .1f}')\n",
    "            break\n",
    "        else:\n",
    "            print('Đây không phải 3 cạnh của tam giác. Hãy nhập lại')\n",
    "    except ValueError:\n",
    "        print('Hãy nhập số! Vui lòng thử lại.')"
   ]
  },
  {
   "cell_type": "code",
   "execution_count": 13,
   "id": "a1bce7d1-3e87-4f4a-83d0-14ba47f26e90",
   "metadata": {},
   "outputs": [
    {
     "name": "stdin",
     "output_type": "stream",
     "text": [
      "Nhập một chuỗi chữ thường (độ dài >= 20): 233jjdjsjdjsjjsjsjsjsjjs\n"
     ]
    },
    {
     "name": "stdout",
     "output_type": "stream",
     "text": [
      "Chuỗi chỉ được chứa chữ thường (a-z)!\n"
     ]
    },
    {
     "name": "stdin",
     "output_type": "stream",
     "text": [
      "Nhập một chuỗi chữ thường (độ dài >= 20): addasad\n"
     ]
    },
    {
     "name": "stdout",
     "output_type": "stream",
     "text": [
      "Chuỗi phải có ít nhất 20 ký tự!\n"
     ]
    },
    {
     "name": "stdin",
     "output_type": "stream",
     "text": [
      "Nhập một chuỗi chữ thường (độ dài >= 20): Ạdjdjdijijwwjiwj\n"
     ]
    },
    {
     "name": "stdout",
     "output_type": "stream",
     "text": [
      "Chuỗi phải có ít nhất 20 ký tự!\n"
     ]
    },
    {
     "name": "stdin",
     "output_type": "stream",
     "text": [
      "Nhập một chuỗi chữ thường (độ dài >= 20): Âijijjijijidjkldkalkllksl\n"
     ]
    },
    {
     "name": "stdout",
     "output_type": "stream",
     "text": [
      "Chuỗi chỉ được chứa chữ thường (a-z)!\n"
     ]
    },
    {
     "name": "stdin",
     "output_type": "stream",
     "text": [
      "Nhập một chuỗi chữ thường (độ dài >= 20): âkdkdkodksoksoklsskowieiros\n"
     ]
    },
    {
     "name": "stdout",
     "output_type": "stream",
     "text": [
      "Ký tự thứ 5 là: d\n",
      "Ký tự thứ 9 là: k\n"
     ]
    }
   ],
   "source": [
    "## Bài 7\n",
    "while True:\n",
    "    s = input('Nhập một chuỗi chữ thường (độ dài >= 20):')\n",
    "    if len(s) < 20:\n",
    "        print('Chuỗi phải có ít nhất 20 ký tự!')\n",
    "        continue\n",
    "    if not (s.islower() and s.isalpha()):\n",
    "        print('Chuỗi chỉ được chứa chữ thường (a-z)!')\n",
    "        continue\n",
    "    print('Ký tự thứ 5 là:', s[4])\n",
    "    print('Ký tự thứ 9 là:', s[8])\n",
    "    break"
   ]
  },
  {
   "cell_type": "code",
   "execution_count": 14,
   "id": "83c31bb1-2455-4c6e-a9aa-f7c2561d0ec5",
   "metadata": {},
   "outputs": [
    {
     "name": "stdin",
     "output_type": "stream",
     "text": [
      "Nhập họ tên chủ hộ:  Lê Minh\n",
      "Nhập chỉ số tháng trước:  1045\n",
      "Nhập chỉ số tháng này:  1200\n"
     ]
    },
    {
     "name": "stdout",
     "output_type": "stream",
     "text": [
      "Ho va ten: Lê Minh\n",
      "Tien phai tra la: 359208\n"
     ]
    }
   ],
   "source": [
    "## Bài 8\n",
    "def tinh_tien_dien(kwh):\n",
    "    # Bảng giá bậc thang\n",
    "    bac = [50, 50, 100, 100, 100]  # số kWh tối đa cho từng bậc\n",
    "    gia = [1984, 2050, 2380, 2998, 3350, 3460]\n",
    "\n",
    "    tien = 0\n",
    "    for i in range(len(bac)):\n",
    "        if kwh > bac[i]:\n",
    "            tien += bac[i] * gia[i]\n",
    "            kwh -= bac[i]\n",
    "        else:\n",
    "            tien += kwh * gia[i]\n",
    "            return tien\n",
    "    # Nếu còn dư kWh thì tính theo bậc 6\n",
    "    tien += kwh * gia[5]\n",
    "    return tien\n",
    "\n",
    "\n",
    "while True:\n",
    "    try:\n",
    "        ten = input(\"Nhập họ tên chủ hộ: \")\n",
    "        chi_so_truoc = int(input(\"Nhập chỉ số tháng trước: \"))\n",
    "        chi_so_nay = int(input(\"Nhập chỉ số tháng này: \"))\n",
    "\n",
    "        if chi_so_nay < chi_so_truoc:\n",
    "            print(\"Chỉ số tháng này phải lớn hơn tháng trước!\\n\")\n",
    "            continue\n",
    "\n",
    "        kwh = chi_so_nay - chi_so_truoc\n",
    "        tien = tinh_tien_dien(kwh)\n",
    "        tien_vat = int(tien * 1.08)  # cộng VAT 8% và làm tròn về đơn vị đồng\n",
    "\n",
    "        print(f\"Ho va ten: {ten}\")\n",
    "        print(f\"Tien phai tra la: {tien_vat}\")\n",
    "        break\n",
    "\n",
    "    except ValueError:\n",
    "        print(\"Bạn phải nhập số cho chỉ số điện!\\n\")"
   ]
  },
  {
   "cell_type": "code",
   "execution_count": null,
   "id": "44a34fd9-3755-4b68-9a36-bc229993f1ba",
   "metadata": {},
   "outputs": [],
   "source": []
  }
 ],
 "metadata": {
  "kernelspec": {
   "display_name": "Python 3 (ipykernel)",
   "language": "python",
   "name": "python3"
  },
  "language_info": {
   "codemirror_mode": {
    "name": "ipython",
    "version": 3
   },
   "file_extension": ".py",
   "mimetype": "text/x-python",
   "name": "python",
   "nbconvert_exporter": "python",
   "pygments_lexer": "ipython3",
   "version": "3.13.7"
  }
 },
 "nbformat": 4,
 "nbformat_minor": 5
}
