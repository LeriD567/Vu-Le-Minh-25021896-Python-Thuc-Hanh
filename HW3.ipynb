{
 "cells": [
  {
   "cell_type": "code",
   "execution_count": 2,
   "id": "665569d9-f6df-476c-9d19-5af1d49149e0",
   "metadata": {},
   "outputs": [
    {
     "name": "stdin",
     "output_type": "stream",
     "text": [
      "Nhập số nguyên a: 2\n",
      "Nhập số nguyên b: 5\n"
     ]
    },
    {
     "name": "stdout",
     "output_type": "stream",
     "text": [
      "Ban đầu: a = 2, b = 5\n",
      "Sau khi hoán đổi: a = 5, b = 2\n"
     ]
    }
   ],
   "source": [
    "#W3A2\n",
    "a = int(input('Nhập số nguyên a:'))\n",
    "b = int(input('Nhập số nguyên b:'))\n",
    "\n",
    "print(f'Ban đầu: a = {a}, b = {b}')\n",
    "\n",
    "a = a^b\n",
    "b = a^b\n",
    "a = a^b\n",
    "\n",
    "print(f'Sau khi hoán đổi: a = {a}, b = {b}')"
   ]
  },
  {
   "cell_type": "code",
   "execution_count": 5,
   "id": "21528623-7991-41b3-b1c7-e70c62438ef3",
   "metadata": {},
   "outputs": [
    {
     "name": "stdin",
     "output_type": "stream",
     "text": [
      "Nhập số n để kiểm tra lũy thừa của 2: 16\n"
     ]
    },
    {
     "name": "stdout",
     "output_type": "stream",
     "text": [
      "16 là lũy thừa của 2\n"
     ]
    }
   ],
   "source": [
    "#W3A3\n",
    "n = int(input('Nhập số n để kiểm tra lũy thừa của 2:'))\n",
    "if n & (n-1) == 0:\n",
    "    print(f'{n} là lũy thừa của 2')\n",
    "else:\n",
    "    print(f'{n} không là lũy thừa của 2')"
   ]
  },
  {
   "cell_type": "code",
   "execution_count": 13,
   "id": "e4632885-8869-4ab3-b943-61151de349e4",
   "metadata": {},
   "outputs": [
    {
     "name": "stdout",
     "output_type": "stream",
     "text": [
      "Chia 1 số m cho 1 số n (làm tròn xuống)\n"
     ]
    },
    {
     "name": "stdin",
     "output_type": "stream",
     "text": [
      "Nhập số m: 7.5\n",
      "Nhập số n: 3\n"
     ]
    },
    {
     "name": "stdout",
     "output_type": "stream",
     "text": [
      "Kết quả làm tròn của 7.5/3.0 = 2.0\n"
     ]
    }
   ],
   "source": [
    "#W3A4\n",
    "print('Chia 1 số m cho 1 số n (làm tròn xuống)')\n",
    "m = float(input('Nhập số m:'))\n",
    "n = float(input('Nhập số n:'))\n",
    "\n",
    "if n == 0:\n",
    "    print('n phải là 1 số khác 0')\n",
    "else:\n",
    "    print(f'Kết quả làm tròn của {m}/{n} = {m//n}')"
   ]
  },
  {
   "cell_type": "code",
   "execution_count": 12,
   "id": "9dd4dd86-f935-4366-9134-5adf4adb5f66",
   "metadata": {},
   "outputs": [
    {
     "name": "stdout",
     "output_type": "stream",
     "text": [
      "Chia 1 số m cho 1 số n (làm tròn lên)\n"
     ]
    },
    {
     "name": "stdin",
     "output_type": "stream",
     "text": [
      "Nhập số m: 7.5\n",
      "Nhập số n: 3\n"
     ]
    },
    {
     "name": "stdout",
     "output_type": "stream",
     "text": [
      "Kết quả làm tròn của 7.5/3.0 = 3.0\n"
     ]
    }
   ],
   "source": [
    "#W3A5\n",
    "print('Chia 1 số m cho 1 số n (làm tròn lên)')\n",
    "m = float(input('Nhập số m:'))\n",
    "n = float(input('Nhập số n:'))\n",
    "\n",
    "if n == 0:\n",
    "    print('n phải là 1 số khác 0')\n",
    "else:\n",
    "    print(f'Kết quả làm tròn của {m}/{n} = {-(-m//n)}')"
   ]
  },
  {
   "cell_type": "code",
   "execution_count": 16,
   "id": "3c4b5780-ad74-4534-87d9-99a8a7e3d19f",
   "metadata": {},
   "outputs": [
    {
     "name": "stdout",
     "output_type": "stream",
     "text": [
      "Kiểm tra x là số chẵn hay lẻ\n"
     ]
    },
    {
     "name": "stdin",
     "output_type": "stream",
     "text": [
      "Nhập vào số nguyên x -4\n"
     ]
    },
    {
     "name": "stdout",
     "output_type": "stream",
     "text": [
      "Even\n"
     ]
    }
   ],
   "source": [
    "#W3A6\n",
    "print('Kiểm tra x là số chẵn hay lẻ')\n",
    "while True:\n",
    "    try:\n",
    "        x = int(input('Nhập vào số nguyên x'))\n",
    "        if x % 2 == 0:\n",
    "            print('Even')\n",
    "        else:\n",
    "            print('Odd')\n",
    "        break\n",
    "    except ValueError:\n",
    "        print('Hãy nhập đúng định dạng của x!')"
   ]
  },
  {
   "cell_type": "code",
   "execution_count": 17,
   "id": "7a070383-7e92-4472-bc78-eacd6ff01620",
   "metadata": {},
   "outputs": [
    {
     "name": "stdin",
     "output_type": "stream",
     "text": [
      "Nhập vào 2 số nguyên a, b: 2 -4\n"
     ]
    },
    {
     "name": "stdout",
     "output_type": "stream",
     "text": [
      "No\n"
     ]
    }
   ],
   "source": [
    "#W3A7\n",
    "while True:\n",
    "    try:\n",
    "        a, b = map(int, input('Nhập vào 2 số nguyên a, b:').split())\n",
    "        if a < 0 and b < 0:\n",
    "            print('Yes')\n",
    "        else:\n",
    "            print('No')\n",
    "        break\n",
    "    except ValueError:\n",
    "        print('Nhập đúng định dạng của a, b!')"
   ]
  },
  {
   "cell_type": "code",
   "execution_count": 2,
   "id": "74a349a9-a030-4d72-8b9f-07a09973e547",
   "metadata": {},
   "outputs": [
    {
     "name": "stdin",
     "output_type": "stream",
     "text": [
      "Nhập chuỗi chữ cái a: aaa\n",
      "Nhập chuỗi chữ cái b: a\n"
     ]
    },
    {
     "name": "stdout",
     "output_type": "stream",
     "text": [
      "True\n"
     ]
    }
   ],
   "source": [
    "#W3A8\n",
    "a = str(input('Nhập chuỗi chữ cái a:'))\n",
    "b = str(input('Nhập chuỗi chữ cái b:'))\n",
    "\n",
    "if len(a) > len(b):\n",
    "    print('True')\n",
    "else:\n",
    "    print('False')"
   ]
  },
  {
   "cell_type": "code",
   "execution_count": 6,
   "id": "3114ba9e-cad0-40b7-861b-be59c0992961",
   "metadata": {},
   "outputs": [
    {
     "name": "stdin",
     "output_type": "stream",
     "text": [
      "Nhập vào 3 số a, b, c: 3 4 5\n"
     ]
    },
    {
     "name": "stdout",
     "output_type": "stream",
     "text": [
      "Yes\n"
     ]
    }
   ],
   "source": [
    "#W3A9\n",
    "while True:\n",
    "    try:\n",
    "        a, b, c = map(float,input('Nhập vào 3 số a, b, c:').split())\n",
    "        if a <= 0 or b <= 0 or c <= 0:\n",
    "            print('Giá trị không hợp lệ')\n",
    "        elif a+b>c and a+c>b and c+b>a:\n",
    "            print('Yes')\n",
    "        else:\n",
    "            print('No')\n",
    "        break\n",
    "    except ValueError:\n",
    "        print('Nhập lỗi!')"
   ]
  },
  {
   "cell_type": "code",
   "execution_count": 9,
   "id": "a5dfcfeb-91c3-4a0d-bb87-3d395d49ca69",
   "metadata": {},
   "outputs": [
    {
     "name": "stdin",
     "output_type": "stream",
     "text": [
      "Nhập 4 số nguyên bất kì 1 a 2 3\n"
     ]
    },
    {
     "name": "stdout",
     "output_type": "stream",
     "text": [
      "Nhập lỗi\n"
     ]
    },
    {
     "name": "stdin",
     "output_type": "stream",
     "text": [
      "Nhập 4 số nguyên bất kì 1 2 3 4\n"
     ]
    },
    {
     "name": "stdout",
     "output_type": "stream",
     "text": [
      "Số lớn nhất trong 4 số là: 4.0\n"
     ]
    }
   ],
   "source": [
    "#W3A10\n",
    "while True:\n",
    "    try:\n",
    "        a, b, c, d = map(float, input('Nhập 4 số nguyên bất kì').split())\n",
    "        maxi = max(a,b,d,c)\n",
    "        print('Số lớn nhất trong 4 số là:', maxi)\n",
    "        break\n",
    "    except ValueError:\n",
    "        print('Nhập lỗi')"
   ]
  },
  {
   "cell_type": "code",
   "execution_count": 16,
   "id": "c92ecf52-26a3-4545-b7c5-8d7404d69870",
   "metadata": {},
   "outputs": [
    {
     "name": "stdin",
     "output_type": "stream",
     "text": [
      "Nhập vào 3 cạnh của tam giác: a d s\n"
     ]
    },
    {
     "name": "stdout",
     "output_type": "stream",
     "text": [
      "Nhập lỗi!\n"
     ]
    },
    {
     "name": "stdin",
     "output_type": "stream",
     "text": [
      "Nhập vào 3 cạnh của tam giác: 2 4 5\n"
     ]
    },
    {
     "name": "stdout",
     "output_type": "stream",
     "text": [
      "Đây là tam giác thường\n"
     ]
    }
   ],
   "source": [
    "#W3A11\n",
    "while True:\n",
    "    try:\n",
    "        a, b, c = map(float, input('Nhập vào 3 cạnh của tam giác:').split())\n",
    "        if a <= 0 or b <= 0 or c <= 0:\n",
    "            print('Giá trị không hợp lệ')\n",
    "            break\n",
    "        if a+b>c and a+c>b and b+c>a:\n",
    "            if a == b == c:\n",
    "                print('Đây là tam giác đều')\n",
    "                break\n",
    "            elif a==b or a==c or b==c: # Dùng hàm .isclose\n",
    "                if a**2+b**2==c**2 or a**2+c**2==b**2 or c**2+b**2==a**2:\n",
    "                    print('Đây là tam giác vuông cân')\n",
    "                    break\n",
    "                else:\n",
    "                    print('Đây là tam giác cân')\n",
    "                    break\n",
    "            elif a**2+b**2==c**2 or a**2+c**2==b**2 or c**2+b**2==a**2:\n",
    "                print('Đây là tam giác vuông')\n",
    "                break\n",
    "            else:\n",
    "                print('Đây là tam giác thường')\n",
    "                break\n",
    "        else:\n",
    "            print('Không phải tam giác')\n",
    "    except ValueError:\n",
    "        print('Nhập lỗi!')"
   ]
  },
  {
   "cell_type": "code",
   "execution_count": 17,
   "id": "e69d101f-5149-422c-b78a-1223450e3c0e",
   "metadata": {},
   "outputs": [
    {
     "name": "stdout",
     "output_type": "stream",
     "text": [
      "Kiểm tra năm nhuận\n"
     ]
    },
    {
     "name": "stdin",
     "output_type": "stream",
     "text": [
      "Nhập một năm (TCN) bất kì 340\n"
     ]
    },
    {
     "name": "stdout",
     "output_type": "stream",
     "text": [
      "Yes\n"
     ]
    }
   ],
   "source": [
    "#W3A12\n",
    "print('Kiểm tra năm nhuận')\n",
    "while True:\n",
    "    try:\n",
    "        n = int(input('Nhập một năm (TCN) bất kì'))\n",
    "        if n <= 0:\n",
    "            print('Năm không hợp lệ!')\n",
    "        elif (n % 400 == 0) or (n % 4 == 0 and n % 100 != 0):\n",
    "            print('Yes')\n",
    "        else:\n",
    "            print('No')\n",
    "        break\n",
    "    except ValueError:\n",
    "        print('Nhập lỗi!')"
   ]
  },
  {
   "cell_type": "code",
   "execution_count": 20,
   "id": "3daeb2af-93e9-44ca-9666-22ca2fddd1d9",
   "metadata": {},
   "outputs": [
    {
     "name": "stdout",
     "output_type": "stream",
     "text": [
      "Giải phương trình ax+b = 0\n"
     ]
    },
    {
     "name": "stdin",
     "output_type": "stream",
     "text": [
      "Nhập 2 hệ số a, b: 3 5\n"
     ]
    },
    {
     "name": "stdout",
     "output_type": "stream",
     "text": [
      "Nghiệm phương trình = -1.67\n"
     ]
    }
   ],
   "source": [
    "#W3A14\n",
    "print('Giải phương trình ax+b = 0')\n",
    "while True:\n",
    "    try:\n",
    "        a, b = map(float, input('Nhập 2 hệ số a, b:').split())\n",
    "        if a == b == 0:\n",
    "            print('Vô số nghiệm')\n",
    "        elif a == 0 and b != 0:\n",
    "            print('Vô nghiệm')\n",
    "        else:\n",
    "            print(f'Nghiệm phương trình = {-b/a:.2f}')\n",
    "        break\n",
    "    except ValueError:\n",
    "        print('Nhập lỗi!')"
   ]
  },
  {
   "cell_type": "code",
   "execution_count": 21,
   "id": "7914faf5-4f70-49c9-b6f8-249baab591f4",
   "metadata": {},
   "outputs": [
    {
     "name": "stdin",
     "output_type": "stream",
     "text": [
      "Nhập điểm của bạn: 8\n"
     ]
    },
    {
     "name": "stdout",
     "output_type": "stream",
     "text": [
      "Học lực: Giỏi\n"
     ]
    }
   ],
   "source": [
    "#W3A15\n",
    "while True:\n",
    "    try:\n",
    "        diem = float(input('Nhập điểm của bạn:'))\n",
    "\n",
    "        if 0 <= diem < 5:\n",
    "            print('Học lực: Yếu')\n",
    "            break\n",
    "        elif 5 <= diem < 6.5:\n",
    "            print('Học lực: Trung bình')\n",
    "            break\n",
    "        elif 6.5 <= diem < 8:\n",
    "            print('Học lực: Khá')\n",
    "            break\n",
    "        elif diem >= 8:\n",
    "            print('Học lực: Giỏi')\n",
    "            break\n",
    "        else:\n",
    "            print('Hãy nhập điểm số hợp lệ (0-10)!')\n",
    "    except ValueError:\n",
    "        print('Nhập lỗi!')"
   ]
  },
  {
   "cell_type": "code",
   "execution_count": 24,
   "id": "18dca237-0807-4e61-9406-81219cb4bb03",
   "metadata": {},
   "outputs": [
    {
     "name": "stdin",
     "output_type": "stream",
     "text": [
      "Nhập vào 1 số thực: 5.678\n"
     ]
    },
    {
     "name": "stdout",
     "output_type": "stream",
     "text": [
      "5 6 6\n"
     ]
    }
   ],
   "source": [
    "#W3A16\n",
    "while True:\n",
    "    try:\n",
    "        x = float(input('Nhập vào 1 số thực:'))\n",
    "        int_part = int(x)\n",
    "\n",
    "        if x >= 0:\n",
    "            floor = int_part\n",
    "        else:\n",
    "            floor = int_part if x == int_part else int_part - 1\n",
    "        \n",
    "\n",
    "        if x >= 0:\n",
    "            ceil = int_part if x == int_part else int_part + 1\n",
    "        else:\n",
    "            ceil = int_part\n",
    "        \n",
    "\n",
    "        frac = x - int_part\n",
    "        if x >= 0:\n",
    "            rnd = int_part +(1 if frac >= 0.5 else 0)\n",
    "        else:\n",
    "            rnd = int_part -(1 if frac >= 0.5 else 0)\n",
    "\n",
    "        print(floor, ceil, rnd)\n",
    "        break\n",
    "    except ValueError:\n",
    "        print('Nhập lỗi!')"
   ]
  },
  {
   "cell_type": "code",
   "execution_count": 25,
   "id": "fc44114f-235a-4e8f-a95e-85cbc6b2b9db",
   "metadata": {},
   "outputs": [
    {
     "name": "stdin",
     "output_type": "stream",
     "text": [
      "Nhập 4 số a, b, c, d 2 4 8 16\n"
     ]
    },
    {
     "name": "stdout",
     "output_type": "stream",
     "text": [
      "True\n"
     ]
    }
   ],
   "source": [
    "#W3A17\n",
    "while True:\n",
    "    try:\n",
    "        a, b, c, d = map(float, input('Nhập 4 số a, b, c, d').split())\n",
    "        csn = False\n",
    "    \n",
    "        if a != 0:\n",
    "            r = b // a\n",
    "            if b * r == c and c * r == d:\n",
    "                csn = True\n",
    "        print(csn)\n",
    "        break\n",
    "    except ValueError:\n",
    "        print('Nhập lỗi!')"
   ]
  },
  {
   "cell_type": "code",
   "execution_count": null,
   "id": "76ffd51f-6abb-4b0d-99d4-7837a1d08b5e",
   "metadata": {},
   "outputs": [],
   "source": []
  }
 ],
 "metadata": {
  "kernelspec": {
   "display_name": "Python 3 (ipykernel)",
   "language": "python",
   "name": "python3"
  },
  "language_info": {
   "codemirror_mode": {
    "name": "ipython",
    "version": 3
   },
   "file_extension": ".py",
   "mimetype": "text/x-python",
   "name": "python",
   "nbconvert_exporter": "python",
   "pygments_lexer": "ipython3",
   "version": "3.13.7"
  }
 },
 "nbformat": 4,
 "nbformat_minor": 5
}
