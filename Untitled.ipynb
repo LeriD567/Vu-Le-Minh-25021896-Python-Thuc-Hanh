{
 "cells": [
  {
   "cell_type": "code",
   "execution_count": null,
   "id": "1b2443cd-57fa-4e9e-9881-118ceb4da4ca",
   "metadata": {},
   "outputs": [],
   "source": []
  }
 ],
 "metadata": {
  "kernelspec": {
   "display_name": "Python 3 (ipykernel)",
   "language": "python",
   "name": "python3"
  },
  "language_info": {
   "codemirror_mode": {
    "name": "ipython",
    "version": 3
   },
   "file_extension": ".py",
   "mimetype": "text/x-python",
   "name": "python",
   "nbconvert_exporter": "python",
   "pygments_lexer": "ipython3",
   "version": "3.13.7"
  }
 },
 "nbformat": 4,
 "nbformat_minor": 5
}
